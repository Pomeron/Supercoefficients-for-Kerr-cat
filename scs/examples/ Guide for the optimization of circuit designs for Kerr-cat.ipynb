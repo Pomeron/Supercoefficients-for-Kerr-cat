{
 "cells": [
  {
   "cell_type": "code",
   "execution_count": 1,
   "id": "7db6babe",
   "metadata": {},
   "outputs": [],
   "source": [
    "#Imports\n",
    "from IPython.display import display, Math\n",
    "import sympy as sp\n",
    "from scs.utils_opt import *\n",
    "from swg.sw_procedure import Hamiltonian\n",
    "from scs.supercoeffs import Circuit, Cnlp"
   ]
  },
  {
   "cell_type": "markdown",
   "id": "9ea9227b",
   "metadata": {},
   "source": [
    "# Kerr-cat optimization"
   ]
  },
  {
   "cell_type": "markdown",
   "id": "feb669c4",
   "metadata": {},
   "source": [
    "<span style=\"font-size:18px;  font-weight:plain;\"> 1. Formulate the concrete problem involving parametric drives, and move into a rotating frame   $\\hat{U}_R=\\exp{(i\\omega^\\prime\\hat{a}^\\dagger\\hat{a}t)}$, $\\hat{U}_{R}^{\\dagger}\\hat H\\hat{U}_{R}-i\\hat{U}_{R}^\\dagger\\dot{\\hat{U}}_{R}\\rightarrow \\hat H$, where $\\omega^\\prime\\approx\\frac{q}{r}\\omega_d$,  $q,\\,r\\in \\mathcal{Z}$, and  $\\omega_0-\\omega^\\prime\\ll\\omega_0$, so \n",
    "    \\begin{align}   \n",
    "        % \\begin{split}\n",
    "            \\hat{H}(t)=(\\omega_0-\\omega^\\prime)\\hat{a}^{\\dagger}\\hat{a}+\\,\\sum\\limits_{\\substack{n=0\\\\ l=0\\\\p=0}}^{\\{l,p\\}^\\prime}{C}_{nl,p}\\left(\\hat{a}^{\\dagger n}\\hat{a}^{n+l}\\right.&\\left.e^{-il\\omega^\\prime{t}}(e^{ip{\\omega}_d{t}}+\\text{c.c.})+\\text{H.c.}\\right),\\nonumber\n",
    "        % \\end{split}\n",
    "    \\end{align}\n",
    "where we take $\\gamma=0$ for the sake of brevity.\n",
    "At this point, depending on the type of wave mixing involved, one chooses the order up to which the Hamiltonian expansion is taken. In the main text, we limit the expansion with $2n+l+p\\leq4$ and $p\\leq2$ for a Kerr parametric oscillator dealing with three- and four-wave mixing as the dominant processes and with $2n+l+p\\leq4$ for the beam-splitter interaction problem involving additionally five-wave mixing. Such an approximation, in particular, is justified by the smallness of $\\varphi_\\mathrm{zpf}$ and $C_{nl,p}\\propto\\varphi_\\mathrm{zpf}^{2n+l}$.</span>"
   ]
  },
  {
   "cell_type": "code",
   "execution_count": 2,
   "id": "82c8904e",
   "metadata": {},
   "outputs": [],
   "source": [
    "sw_order = 2      # Schrieffer-Wolff procedure order (RWA is zero order)\n",
    "max_order = 4     # maximum order of terms to consider in normal-ordered time-dependent \n",
    "                  #Hamiltonian 2n+l+p ≤ 4 (p set to be ≤ 3)\n",
    "dr_mode_dim = 1   # number of drives in the circuit\n",
    "hamiltonian = Hamiltonian('Kerr-cat', dr_mode_dim, sw_order=sw_order, max_order=max_order)\n",
    "hamiltonian.add_freqs_condition([2],[1])# the condition 2*\\omega^prime=omega_d is ensured "
   ]
  },
  {
   "cell_type": "markdown",
   "id": "7f230e99",
   "metadata": {},
   "source": [
    "## Schrieffer-Wolff procedure for single DOF circuit\n",
    "<span style=\"font-size:17px;  font-weight:plain;\"> 2. Calculate the static effective Hamiltonian up to a required order using the Schrieffer-Wolff (SW) procedure or any alternative averaging method. In the main text, we employ the procedure introduced in 10.1103/PhysRevLett.129.100601 computing the unitary generator $\\hat S(t)$ for the canonical transformation and  obtaining a static effective Hamiltonian\n",
    "via \n",
    "\\begin{align}\\label{eq_app:effH}\n",
    "\\begin{split}\n",
    "\\hat{\\mathcal{H}}_{\\mathrm{eff}} \\equiv \\overline{e^{\\hat{S} / i \\hbar} \\hat{H}(t) e^{-\\hat{S} / i \\hbar}}-i \\hbar\\overline{ e^{\\hat{S} / i \\hbar} \\partial_{t} e^{-\\hat{S} / i \\hbar}}\\\\\n",
    "= \\overline{\\hat{{H}}(t)}+ \\frac{1}{i\\hbar}\\overline{[\\hat S, \\hat{{H}}(t)]}+\\frac{1}{2!(i\\hbar)^2}\\overline{[\\hat S,[\\hat S, \\hat{{H}}(t)]]} \\\\+ \\cdots  + \\overline{\\partial_t\\hat S}  + \\frac{1}{2! i\\hbar} \\overline{[\\hat S, \\partial_t {\\hat S}]} + \\cdots\n",
    "\\end{split}\n",
    "\\end{align}\n",
    "where the  Baker-Campbell-Hausdorff formula\\footnote{$e^{-\\hat A} \\hat B e^{\\hat A} = \\hat B + [\\hat B, \\hat A] + \\frac{1}{2!} [[\\hat B, \\hat A],\\hat A] + \\ldots$} was applied and the time averaging is given by $\\overline{f}(t)\\equiv\\frac{1}{T}\\int_0^T{f(t)}dt$, where $T=2\\pi/\\omega$. Then, both the generator $\\hat S$ and the effective Hamiltonian $\\hat{\\mathcal{H}}_{\\mathrm{eff}}$ can be calculated perturbatively with a recursive procedure up to the required order of $1/\\omega$ considering the expansion of the time-dependent Hamiltonian \n",
    "\\begin{equation}\n",
    "\\hat{{H}}(t)=\\sum\\limits_{m\\in \\mathbb{Z}}\\hat{H}_me^{im\\omega t},\n",
    "\\end{equation}\n",
    "so \n",
    "\\begin{align}    \\hat{\\mathcal{H}}_{\\mathrm{eff}} = \\sum_{n\\in\\mathbb{N}} \\hat{\\mathcal{H}}_{\\mathrm{eff}}^{(n)}, \\quad \\hat S = \\sum_{n\\in\\mathbb{N}} \\hat S^{(n)}.\n",
    "\\end{align}\n",
    "The RWA for the Hamiltonian is defined as $\\hat{\\mathcal{H}}_{\\mathrm{eff}}^{(0)}=\\overline{\\hat{H}(t)}$ with $\\hat S^{(0)}=0$, while the first-order correction is obtained from\n",
    "\\begin{align}\n",
    "\\frac{\\hat S^{(1)}}{\\hbar}&=- \\int dt\\; \\textbf{osc}\\hat{H}(t),\\\\\n",
    "\\hat{\\mathcal{H}}_{\\mathrm{eff}}^{(1)}&=\\frac{1}{i\\hbar}\\overline{\\left([\\hat S^{(1)}, \\hat{{H}}(t)]+\\frac{1}{2!} [\\hat S^{(1)}, \\partial_t {\\hat S^{(1)}}]\\right)},\n",
    "\\end{align}\n",
    "where $\\textbf{osc}f= f-\\overline{f}$. The next order of perturbations can be calculated via the recursive procedure presented in the original paper 10.1103/PhysRevLett.129.100601. Although it is possible to obtain corrections up to the required order, for simplicity, the main text and next sections focus only on the first-order correction beyond the RWA.</span>"
   ]
  },
  {
   "cell_type": "code",
   "execution_count": 3,
   "id": "cc384a40",
   "metadata": {},
   "outputs": [
    {
     "name": "stdout",
     "output_type": "stream",
     "text": [
      "((1,), (1,))\n",
      "((2,), (2,))\n",
      "((2,), (0,))\n",
      "Initialized and saved array for model 'Kerr-cat' to file.\n",
      "Self-Kerr amplitude, 0th order:\n"
     ]
    },
    {
     "data": {
      "text/latex": [
       "$\\displaystyle 1.0 C_{20,0}$"
      ],
      "text/plain": [
       "<IPython.core.display.Math object>"
      ]
     },
     "metadata": {},
     "output_type": "display_data"
    },
    {
     "name": "stdout",
     "output_type": "stream",
     "text": [
      "Detuning amplitude, 0th order:\n"
     ]
    },
    {
     "data": {
      "text/latex": [
       "$\\displaystyle 1.0 C_{10,0}$"
      ],
      "text/plain": [
       "<IPython.core.display.Math object>"
      ]
     },
     "metadata": {},
     "output_type": "display_data"
    },
    {
     "name": "stdout",
     "output_type": "stream",
     "text": [
      "Two-photon squeezing amplitude, 0th order:\n"
     ]
    },
    {
     "data": {
      "text/latex": [
       "$\\displaystyle 1.0 C_{02,1}$"
      ],
      "text/plain": [
       "<IPython.core.display.Math object>"
      ]
     },
     "metadata": {},
     "output_type": "display_data"
    },
    {
     "name": "stdout",
     "output_type": "stream",
     "text": [
      "Self-Kerr amplitude, 1st order:\n"
     ]
    },
    {
     "data": {
      "text/latex": [
       "$\\displaystyle - \\frac{12.0 C_{02,0} C_{12,0}}{\\omega_{d}} - \\frac{6.0 C_{03,0}^{2}}{\\omega_{d}} - \\frac{21.6 C_{03,1}^{2}}{\\omega_{d}} - \\frac{36.0 C_{04,0}^{2}}{\\omega_{d}} - \\frac{6.0 C_{11,0}^{2}}{\\omega_{d}} + \\frac{4.0 C_{11,1}^{2}}{\\omega_{d}} - \\frac{18.0 C_{12,0}^{2}}{\\omega_{d}}$"
      ],
      "text/plain": [
       "<IPython.core.display.Math object>"
      ]
     },
     "metadata": {},
     "output_type": "display_data"
    },
    {
     "name": "stdout",
     "output_type": "stream",
     "text": [
      "Detuning amplitude, 1st order:\n"
     ]
    },
    {
     "data": {
      "text/latex": [
       "$\\displaystyle - \\frac{8.0 C_{01,0} C_{11,0}}{\\omega_{d}} + \\frac{5.33333333333333 C_{01,1} C_{11,1}}{\\omega_{d}} - \\frac{4.0 C_{02,0}^{2}}{\\omega_{d}} - \\frac{12.0 C_{02,0} C_{12,0}}{\\omega_{d}} - \\frac{2.0 C_{02,1}^{2}}{\\omega_{d}} + \\frac{2.66666666666667 C_{02,2}^{2}}{\\omega_{d}} - \\frac{12.0 C_{03,0}^{2}}{\\omega_{d}} - \\frac{43.2 C_{03,1}^{2}}{\\omega_{d}} - \\frac{48.0 C_{04,0}^{2}}{\\omega_{d}} - \\frac{4.0 C_{11,0}^{2}}{\\omega_{d}} + \\frac{2.66666666666667 C_{11,1}^{2}}{\\omega_{d}} - \\frac{6.0 C_{12,0}^{2}}{\\omega_{d}}$"
      ],
      "text/plain": [
       "<IPython.core.display.Math object>"
      ]
     },
     "metadata": {},
     "output_type": "display_data"
    },
    {
     "name": "stdout",
     "output_type": "stream",
     "text": [
      "Two-photon squeezing amplitude, 1st order:\n"
     ]
    },
    {
     "data": {
      "text/latex": [
       "$\\displaystyle - \\frac{6.0 C_{01,0} C_{03,1}}{\\omega_{d}} - \\frac{2.0 C_{01,0} C_{11,1}}{\\omega_{d}} - \\frac{2.0 C_{01,1} C_{03,0}}{\\omega_{d}} + \\frac{2.0 C_{01,1} C_{11,0}}{\\omega_{d}} - \\frac{1.2 C_{01,2} C_{03,1}}{\\omega_{d}} + \\frac{0.666666666666667 C_{01,2} C_{11,1}}{\\omega_{d}} - \\frac{2.0 C_{02,0} C_{10,1}}{\\omega_{d}} - \\frac{6.0 C_{02,1} C_{04,0}}{\\omega_{d}} - \\frac{1.0 C_{02,1} C_{10,2}}{\\omega_{d}} + \\frac{2.0 C_{02,2} C_{10,1}}{\\omega_{d}} - \\frac{4.0 C_{03,0} C_{11,1}}{\\omega_{d}} - \\frac{12.0 C_{03,1} C_{11,0}}{\\omega_{d}}$"
      ],
      "text/plain": [
       "<IPython.core.display.Math object>"
      ]
     },
     "metadata": {},
     "output_type": "display_data"
    },
    {
     "name": "stdout",
     "output_type": "stream",
     "text": [
      "Self-Kerr amplitude, 2nd order:\n"
     ]
    },
    {
     "data": {
      "text/latex": [
       "$\\displaystyle \\frac{96.0 C_{01,0} C_{03,0} C_{04,0}}{\\omega_{d}^{2}} + \\frac{96.0 C_{01,0} C_{03,0} C_{12,0}}{\\omega_{d}^{2}} + \\frac{96.0 C_{01,0} C_{11,0} C_{12,0}}{\\omega_{d}^{2}} + \\frac{32.0 C_{01,0} C_{11,0} C_{20,0}}{\\omega_{d}^{2}} + \\frac{38.4 C_{01,1} C_{03,1} C_{04,0}}{\\omega_{d}^{2}} - \\frac{115.2 C_{01,1} C_{03,1} C_{12,0}}{\\omega_{d}^{2}} - \\frac{64.0 C_{01,1} C_{11,1} C_{12,0}}{\\omega_{d}^{2}} + \\frac{35.5555555555556 C_{01,1} C_{11,1} C_{20,0}}{\\omega_{d}^{2}} + \\frac{48.0 C_{02,0}^{2} C_{04,0}}{\\omega_{d}^{2}} + \\frac{16.0 C_{02,0}^{2} C_{20,0}}{\\omega_{d}^{2}} + \\frac{96.0 C_{02,0} C_{03,0} C_{11,0}}{\\omega_{d}^{2}} + \\frac{38.4 C_{02,0} C_{03,1} C_{11,1}}{\\omega_{d}^{2}} + \\frac{576.0 C_{02,0} C_{04,0} C_{12,0}}{\\omega_{d}^{2}} + \\frac{16.0 C_{02,0} C_{10,0} C_{12,0}}{\\omega_{d}^{2}} + \\frac{48.0 C_{02,0} C_{11,0}^{2}}{\\omega_{d}^{2}} - \\frac{32.0 C_{02,0} C_{11,1}^{2}}{\\omega_{d}^{2}} + \\frac{112.0 C_{02,0} C_{12,0} C_{20,0}}{\\omega_{d}^{2}} + \\frac{8.0 C_{02,1}^{2} C_{04,0}}{\\omega_{d}^{2}} + \\frac{4.0 C_{02,1}^{2} C_{20,0}}{\\omega_{d}^{2}} - \\frac{24.0 C_{02,1} C_{03,0} C_{11,1}}{\\omega_{d}^{2}} + \\frac{43.2 C_{02,1} C_{03,1} C_{11,0}}{\\omega_{d}^{2}} + \\frac{4.0 C_{02,1} C_{10,1} C_{12,0}}{\\omega_{d}^{2}} - \\frac{32.0 C_{02,1} C_{11,0} C_{11,1}}{\\omega_{d}^{2}} - \\frac{32.0 C_{02,2}^{2} C_{04,0}}{\\omega_{d}^{2}} + \\frac{17.7777777777778 C_{02,2}^{2} C_{20,0}}{\\omega_{d}^{2}} - \\frac{115.2 C_{02,2} C_{03,1} C_{11,1}}{\\omega_{d}^{2}} - \\frac{16.0 C_{02,2} C_{10,2} C_{12,0}}{\\omega_{d}^{2}} + \\frac{53.3333333333333 C_{02,2} C_{11,1}^{2}}{\\omega_{d}^{2}} + \\frac{8.0 C_{03,0}^{2} C_{10,0}}{\\omega_{d}^{2}} + \\frac{80.0 C_{03,0}^{2} C_{20,0}}{\\omega_{d}^{2}} + \\frac{86.4 C_{03,0} C_{03,1} C_{10,1}}{\\omega_{d}^{2}} + \\frac{624.0 C_{03,0} C_{04,0} C_{11,0}}{\\omega_{d}^{2}} + \\frac{480.0 C_{03,0} C_{11,0} C_{12,0}}{\\omega_{d}^{2}} + \\frac{74.88 C_{03,1}^{2} C_{10,0}}{\\omega_{d}^{2}} + \\frac{43.2 C_{03,1}^{2} C_{10,2}}{\\omega_{d}^{2}} + \\frac{748.8 C_{03,1}^{2} C_{20,0}}{\\omega_{d}^{2}} + \\frac{710.4 C_{03,1} C_{04,0} C_{11,1}}{\\omega_{d}^{2}} - \\frac{115.2 C_{03,1} C_{11,1} C_{12,0}}{\\omega_{d}^{2}} + \\frac{48.0 C_{04,0}^{2} C_{10,0}}{\\omega_{d}^{2}} + \\frac{464.0 C_{04,0}^{2} C_{20,0}}{\\omega_{d}^{2}} + \\frac{1080.0 C_{04,0} C_{12,0}^{2}}{\\omega_{d}^{2}} + \\frac{8.0 C_{10,0} C_{11,0}^{2}}{\\omega_{d}^{2}} + \\frac{8.88888888888889 C_{10,0} C_{11,1}^{2}}{\\omega_{d}^{2}} + \\frac{24.0 C_{10,0} C_{12,0}^{2}}{\\omega_{d}^{2}} - \\frac{16.0 C_{10,1} C_{11,0} C_{11,1}}{\\omega_{d}^{2}} - \\frac{8.0 C_{10,2} C_{11,1}^{2}}{\\omega_{d}^{2}} + \\frac{192.0 C_{11,0}^{2} C_{12,0}}{\\omega_{d}^{2}} + \\frac{48.0 C_{11,0}^{2} C_{20,0}}{\\omega_{d}^{2}} - \\frac{128.0 C_{11,1}^{2} C_{12,0}}{\\omega_{d}^{2}} + \\frac{53.3333333333333 C_{11,1}^{2} C_{20,0}}{\\omega_{d}^{2}} + \\frac{136.0 C_{12,0}^{2} C_{20,0}}{\\omega_{d}^{2}}$"
      ],
      "text/plain": [
       "<IPython.core.display.Math object>"
      ]
     },
     "metadata": {},
     "output_type": "display_data"
    },
    {
     "name": "stdout",
     "output_type": "stream",
     "text": [
      "Detuning amplitude, 2nd order:\n"
     ]
    },
    {
     "data": {
      "text/latex": [
       "$\\displaystyle \\frac{24.0 C_{01,0}^{2} C_{12,0}}{\\omega_{d}^{2}} + \\frac{10.6666666666667 C_{01,0}^{2} C_{20,0}}{\\omega_{d}^{2}} + \\frac{48.0 C_{01,0} C_{02,0} C_{03,0}}{\\omega_{d}^{2}} + \\frac{48.0 C_{01,0} C_{02,0} C_{11,0}}{\\omega_{d}^{2}} + \\frac{56.0 C_{01,0} C_{02,1} C_{03,1}}{\\omega_{d}^{2}} - \\frac{13.3333333333333 C_{01,0} C_{02,1} C_{11,1}}{\\omega_{d}^{2}} + \\frac{192.0 C_{01,0} C_{03,0} C_{04,0}}{\\omega_{d}^{2}} + \\frac{120.0 C_{01,0} C_{03,0} C_{12,0}}{\\omega_{d}^{2}} + \\frac{10.6666666666667 C_{01,0} C_{10,0} C_{11,0}}{\\omega_{d}^{2}} - \\frac{10.6666666666667 C_{01,0} C_{10,1} C_{11,1}}{\\omega_{d}^{2}} + \\frac{72.0 C_{01,0} C_{11,0} C_{12,0}}{\\omega_{d}^{2}} + \\frac{21.3333333333333 C_{01,0} C_{11,0} C_{20,0}}{\\omega_{d}^{2}} - \\frac{16.0 C_{01,1}^{2} C_{12,0}}{\\omega_{d}^{2}} + \\frac{11.8518518518518 C_{01,1}^{2} C_{20,0}}{\\omega_{d}^{2}} - \\frac{32.0 C_{01,1} C_{02,0} C_{03,1}}{\\omega_{d}^{2}} - \\frac{32.0 C_{01,1} C_{02,0} C_{11,1}}{\\omega_{d}^{2}} - \\frac{20.4444444444444 C_{01,1} C_{02,1} C_{03,0}}{\\omega_{d}^{2}} - \\frac{18.6666666666667 C_{01,1} C_{02,1} C_{11,0}}{\\omega_{d}^{2}} - \\frac{32.0 C_{01,1} C_{02,2} C_{03,1}}{\\omega_{d}^{2}} + \\frac{53.3333333333333 C_{01,1} C_{02,2} C_{11,1}}{\\omega_{d}^{2}} + \\frac{76.8 C_{01,1} C_{03,1} C_{04,0}}{\\omega_{d}^{2}} - \\frac{182.4 C_{01,1} C_{03,1} C_{12,0}}{\\omega_{d}^{2}} + \\frac{11.8518518518518 C_{01,1} C_{10,0} C_{11,1}}{\\omega_{d}^{2}} - \\frac{10.6666666666667 C_{01,1} C_{10,1} C_{11,0}}{\\omega_{d}^{2}} - \\frac{10.6666666666667 C_{01,1} C_{10,2} C_{11,1}}{\\omega_{d}^{2}} - \\frac{48.0 C_{01,1} C_{11,1} C_{12,0}}{\\omega_{d}^{2}} + \\frac{23.7037037037037 C_{01,1} C_{11,1} C_{20,0}}{\\omega_{d}^{2}} - \\frac{3.2 C_{01,2}^{2} C_{12,0}}{\\omega_{d}^{2}} + \\frac{1.61185185185185 C_{01,2}^{2} C_{20,0}}{\\omega_{d}^{2}} - \\frac{6.72 C_{01,2} C_{02,1} C_{03,1}}{\\omega_{d}^{2}} - \\frac{8.35555555555556 C_{01,2} C_{02,1} C_{11,1}}{\\omega_{d}^{2}} - \\frac{14.9333333333333 C_{01,2} C_{02,2} C_{03,0}}{\\omega_{d}^{2}} + \\frac{2.13333333333334 C_{01,2} C_{02,2} C_{11,0}}{\\omega_{d}^{2}} + \\frac{6.4 C_{01,2} C_{10,1} C_{11,1}}{\\omega_{d}^{2}} - \\frac{2.13333333333333 C_{01,2} C_{10,2} C_{11,0}}{\\omega_{d}^{2}} - \\frac{1.37142857142857 C_{01,3}^{2} C_{12,0}}{\\omega_{d}^{2}} + \\frac{0.644353741496599 C_{01,3}^{2} C_{20,0}}{\\omega_{d}^{2}} - \\frac{10.0571428571429 C_{01,3} C_{02,2} C_{03,1}}{\\omega_{d}^{2}} - \\frac{2.74285714285714 C_{01,3} C_{02,2} C_{11,1}}{\\omega_{d}^{2}} + \\frac{3.96190476190476 C_{01,3} C_{10,2} C_{11,1}}{\\omega_{d}^{2}} + \\frac{96.0 C_{02,0}^{2} C_{04,0}}{\\omega_{d}^{2}} + \\frac{5.33333333333332 C_{02,0}^{2} C_{10,0}}{\\omega_{d}^{2}} + \\frac{21.3333333333333 C_{02,0}^{2} C_{20,0}}{\\omega_{d}^{2}} + \\frac{2.66666666666667 C_{02,0} C_{02,1} C_{10,1}}{\\omega_{d}^{2}} - \\frac{10.6666666666667 C_{02,0} C_{02,2} C_{10,2}}{\\omega_{d}^{2}} + \\frac{144.0 C_{02,0} C_{03,0} C_{11,0}}{\\omega_{d}^{2}} + \\frac{108.8 C_{02,0} C_{03,1} C_{11,1}}{\\omega_{d}^{2}} + \\frac{432.0 C_{02,0} C_{04,0} C_{12,0}}{\\omega_{d}^{2}} + \\frac{16.0 C_{02,0} C_{10,0} C_{12,0}}{\\omega_{d}^{2}} + \\frac{48.0 C_{02,0} C_{11,0}^{2}}{\\omega_{d}^{2}} - \\frac{32.0 C_{02,0} C_{11,1}^{2}}{\\omega_{d}^{2}} + \\frac{48.0 C_{02,0} C_{12,0} C_{20,0}}{\\omega_{d}^{2}} + \\frac{16.0 C_{02,1}^{2} C_{04,0}}{\\omega_{d}^{2}} + \\frac{1.33333333333333 C_{02,1}^{2} C_{10,0}}{\\omega_{d}^{2}} - \\frac{1.33333333333333 C_{02,1}^{2} C_{10,2}}{\\omega_{d}^{2}} + \\frac{5.33333333333333 C_{02,1}^{2} C_{20,0}}{\\omega_{d}^{2}} - \\frac{2.66666666666667 C_{02,1} C_{02,2} C_{10,1}}{\\omega_{d}^{2}} - \\frac{27.5555555555555 C_{02,1} C_{03,0} C_{11,1}}{\\omega_{d}^{2}} + \\frac{30.4 C_{02,1} C_{03,1} C_{11,0}}{\\omega_{d}^{2}} + \\frac{4.0 C_{02,1} C_{10,1} C_{12,0}}{\\omega_{d}^{2}} - \\frac{32.0 C_{02,1} C_{11,0} C_{11,1}}{\\omega_{d}^{2}} - \\frac{64.0 C_{02,2}^{2} C_{04,0}}{\\omega_{d}^{2}} + \\frac{5.92592592592592 C_{02,2}^{2} C_{10,0}}{\\omega_{d}^{2}} + \\frac{23.7037037037037 C_{02,2}^{2} C_{20,0}}{\\omega_{d}^{2}} - \\frac{198.4 C_{02,2} C_{03,1} C_{11,1}}{\\omega_{d}^{2}} - \\frac{16.0 C_{02,2} C_{10,2} C_{12,0}}{\\omega_{d}^{2}} + \\frac{53.3333333333333 C_{02,2} C_{11,1}^{2}}{\\omega_{d}^{2}} + \\frac{16.0 C_{03,0}^{2} C_{10,0}}{\\omega_{d}^{2}} + \\frac{74.6666666666668 C_{03,0}^{2} C_{20,0}}{\\omega_{d}^{2}} + \\frac{172.8 C_{03,0} C_{03,1} C_{10,1}}{\\omega_{d}^{2}} + \\frac{512.0 C_{03,0} C_{04,0} C_{11,0}}{\\omega_{d}^{2}} + \\frac{224.0 C_{03,0} C_{11,0} C_{12,0}}{\\omega_{d}^{2}} + \\frac{149.76 C_{03,1}^{2} C_{10,0}}{\\omega_{d}^{2}} + \\frac{86.4 C_{03,1}^{2} C_{10,2}}{\\omega_{d}^{2}} + \\frac{698.88 C_{03,1}^{2} C_{20,0}}{\\omega_{d}^{2}} + \\frac{819.2 C_{03,1} C_{04,0} C_{11,1}}{\\omega_{d}^{2}} - \\frac{12.8 C_{03,1} C_{11,1} C_{12,0}}{\\omega_{d}^{2}} + \\frac{64.0 C_{04,0}^{2} C_{10,0}}{\\omega_{d}^{2}} + \\frac{352.0 C_{04,0}^{2} C_{20,0}}{\\omega_{d}^{2}} + \\frac{360.0 C_{04,0} C_{12,0}^{2}}{\\omega_{d}^{2}} + \\frac{5.33333333333332 C_{10,0} C_{11,0}^{2}}{\\omega_{d}^{2}} + \\frac{5.92592592592592 C_{10,0} C_{11,1}^{2}}{\\omega_{d}^{2}} + \\frac{8.0 C_{10,0} C_{12,0}^{2}}{\\omega_{d}^{2}} - \\frac{10.6666666666667 C_{10,1} C_{11,0} C_{11,1}}{\\omega_{d}^{2}} - \\frac{5.33333333333333 C_{10,2} C_{11,1}^{2}}{\\omega_{d}^{2}} + \\frac{48.0 C_{11,0}^{2} C_{12,0}}{\\omega_{d}^{2}} + \\frac{10.6666666666667 C_{11,0}^{2} C_{20,0}}{\\omega_{d}^{2}} - \\frac{32.0 C_{11,1}^{2} C_{12,0}}{\\omega_{d}^{2}} + \\frac{11.8518518518518 C_{11,1}^{2} C_{20,0}}{\\omega_{d}^{2}} + \\frac{24.0 C_{12,0}^{2} C_{20,0}}{\\omega_{d}^{2}}$"
      ],
      "text/plain": [
       "<IPython.core.display.Math object>"
      ]
     },
     "metadata": {},
     "output_type": "display_data"
    },
    {
     "name": "stdout",
     "output_type": "stream",
     "text": [
      "Two-photon squeezing amplitude, 2nd order:\n"
     ]
    },
    {
     "data": {
      "text/latex": [
       "$\\displaystyle \\frac{16.0 C_{01,0} C_{01,1} C_{04,0}}{\\omega_{d}^{2}} - \\frac{8.0 C_{01,0} C_{01,1} C_{12,0}}{\\omega_{d}^{2}} - \\frac{5.33333333333333 C_{01,0} C_{01,1} C_{20,0}}{\\omega_{d}^{2}} + \\frac{24.0 C_{01,0} C_{02,0} C_{03,1}}{\\omega_{d}^{2}} + \\frac{24.0 C_{01,0} C_{02,0} C_{11,1}}{\\omega_{d}^{2}} + \\frac{8.0 C_{01,0} C_{02,1} C_{03,0}}{\\omega_{d}^{2}} - \\frac{5.33333333333333 C_{01,0} C_{02,1} C_{11,0}}{\\omega_{d}^{2}} + \\frac{4.8 C_{01,0} C_{02,2} C_{03,1}}{\\omega_{d}^{2}} - \\frac{18.6666666666667 C_{01,0} C_{02,2} C_{11,1}}{\\omega_{d}^{2}} + \\frac{16.0 C_{01,0} C_{03,0} C_{10,1}}{\\omega_{d}^{2}} + \\frac{36.0 C_{01,0} C_{03,1} C_{04,0}}{\\omega_{d}^{2}} + \\frac{16.0 C_{01,0} C_{03,1} C_{10,0}}{\\omega_{d}^{2}} + \\frac{8.4 C_{01,0} C_{03,1} C_{10,2}}{\\omega_{d}^{2}} + \\frac{72.0 C_{01,0} C_{03,1} C_{12,0}}{\\omega_{d}^{2}} + \\frac{40.0 C_{01,0} C_{03,1} C_{20,0}}{\\omega_{d}^{2}} + \\frac{44.0 C_{01,0} C_{04,0} C_{11,1}}{\\omega_{d}^{2}} + \\frac{0.666666666666667 C_{01,0} C_{10,2} C_{11,1}}{\\omega_{d}^{2}} + \\frac{8.0 C_{01,0} C_{11,1} C_{12,0}}{\\omega_{d}^{2}} - \\frac{2.66666666666667 C_{01,0} C_{11,1} C_{20,0}}{\\omega_{d}^{2}} - \\frac{9.6 C_{01,1} C_{01,2} C_{04,0}}{\\omega_{d}^{2}} + \\frac{4.8 C_{01,1} C_{01,2} C_{12,0}}{\\omega_{d}^{2}} - \\frac{0.592592592592592 C_{01,1} C_{01,2} C_{20,0}}{\\omega_{d}^{2}} - \\frac{8.00000000000001 C_{01,1} C_{02,0} C_{03,0}}{\\omega_{d}^{2}} - \\frac{8.0 C_{01,1} C_{02,0} C_{11,0}}{\\omega_{d}^{2}} - \\frac{12.8 C_{01,1} C_{02,1} C_{03,1}}{\\omega_{d}^{2}} - \\frac{5.92592592592592 C_{01,1} C_{02,1} C_{11,1}}{\\omega_{d}^{2}} + \\frac{2.66666666666667 C_{01,1} C_{02,2} C_{03,0}}{\\omega_{d}^{2}} + \\frac{13.3333333333333 C_{01,1} C_{02,2} C_{11,0}}{\\omega_{d}^{2}} - \\frac{36.0 C_{01,1} C_{03,0} C_{04,0}}{\\omega_{d}^{2}} + \\frac{1.77777777777778 C_{01,1} C_{03,0} C_{10,0}}{\\omega_{d}^{2}} - \\frac{10.0 C_{01,1} C_{03,0} C_{10,2}}{\\omega_{d}^{2}} - \\frac{24.0 C_{01,1} C_{03,0} C_{12,0}}{\\omega_{d}^{2}} + \\frac{4.44444444444444 C_{01,1} C_{03,0} C_{20,0}}{\\omega_{d}^{2}} - \\frac{19.2 C_{01,1} C_{03,1} C_{10,1}}{\\omega_{d}^{2}} + \\frac{36.0 C_{01,1} C_{04,0} C_{11,0}}{\\omega_{d}^{2}} - \\frac{0.666666666666667 C_{01,1} C_{10,2} C_{11,0}}{\\omega_{d}^{2}} - \\frac{24.0 C_{01,1} C_{11,0} C_{12,0}}{\\omega_{d}^{2}} - \\frac{2.66666666666667 C_{01,1} C_{11,0} C_{20,0}}{\\omega_{d}^{2}} - \\frac{2.28571428571429 C_{01,2} C_{01,3} C_{04,0}}{\\omega_{d}^{2}} + \\frac{1.14285714285714 C_{01,2} C_{01,3} C_{12,0}}{\\omega_{d}^{2}} - \\frac{0.213333333333333 C_{01,2} C_{01,3} C_{20,0}}{\\omega_{d}^{2}} - \\frac{1.6 C_{01,2} C_{02,0} C_{03,1}}{\\omega_{d}^{2}} - \\frac{1.6 C_{01,2} C_{02,0} C_{11,1}}{\\omega_{d}^{2}} - \\frac{1.77777777777778 C_{01,2} C_{02,1} C_{03,0}}{\\omega_{d}^{2}} - \\frac{2.13333333333333 C_{01,2} C_{02,1} C_{11,0}}{\\omega_{d}^{2}} - \\frac{3.2 C_{01,2} C_{02,2} C_{03,1}}{\\omega_{d}^{2}} - \\frac{0.355555555555554 C_{01,2} C_{02,2} C_{11,1}}{\\omega_{d}^{2}} - \\frac{1.6 C_{01,2} C_{03,0} C_{10,1}}{\\omega_{d}^{2}} - \\frac{12.0 C_{01,2} C_{03,1} C_{04,0}}{\\omega_{d}^{2}} + \\frac{0.64 C_{01,2} C_{03,1} C_{10,0}}{\\omega_{d}^{2}} - \\frac{4.8 C_{01,2} C_{03,1} C_{10,2}}{\\omega_{d}^{2}} - \\frac{4.8 C_{01,2} C_{03,1} C_{12,0}}{\\omega_{d}^{2}} + \\frac{1.6 C_{01,2} C_{03,1} C_{20,0}}{\\omega_{d}^{2}} - \\frac{16.8 C_{01,2} C_{04,0} C_{11,1}}{\\omega_{d}^{2}} + \\frac{2.66666666666667 C_{01,2} C_{10,1} C_{11,0}}{\\omega_{d}^{2}} + \\frac{0.533333333333333 C_{01,2} C_{10,2} C_{11,1}}{\\omega_{d}^{2}} + \\frac{8.0 C_{01,2} C_{11,1} C_{12,0}}{\\omega_{d}^{2}} - \\frac{0.296296296296296 C_{01,2} C_{11,1} C_{20,0}}{\\omega_{d}^{2}} - \\frac{0.64 C_{01,3} C_{02,1} C_{03,1}}{\\omega_{d}^{2}} - \\frac{0.609523809523809 C_{01,3} C_{02,1} C_{11,1}}{\\omega_{d}^{2}} - \\frac{1.6 C_{01,3} C_{02,2} C_{03,0}}{\\omega_{d}^{2}} - \\frac{1.29523809523809 C_{01,3} C_{02,2} C_{11,0}}{\\omega_{d}^{2}} - \\frac{0.285714285714286 C_{01,3} C_{03,0} C_{10,2}}{\\omega_{d}^{2}} - \\frac{1.37142857142857 C_{01,3} C_{03,1} C_{10,1}}{\\omega_{d}^{2}} + \\frac{1.06666666666667 C_{01,3} C_{10,1} C_{11,1}}{\\omega_{d}^{2}} + \\frac{1.2 C_{01,3} C_{10,2} C_{11,0}}{\\omega_{d}^{2}} + \\frac{6.66666666666667 C_{02,0}^{2} C_{02,1}}{\\omega_{d}^{2}} - \\frac{5.33333333333333 C_{02,0} C_{02,1} C_{02,2}}{\\omega_{d}^{2}} + \\frac{12.0 C_{02,0} C_{02,1} C_{12,0}}{\\omega_{d}^{2}} + \\frac{144.0 C_{02,0} C_{03,0} C_{03,1}}{\\omega_{d}^{2}} + \\frac{32.0 C_{02,0} C_{03,0} C_{11,1}}{\\omega_{d}^{2}} + \\frac{48.0 C_{02,0} C_{03,1} C_{11,0}}{\\omega_{d}^{2}} + \\frac{36.0 C_{02,0} C_{04,0} C_{10,1}}{\\omega_{d}^{2}} + \\frac{1.33333333333333 C_{02,0} C_{10,0} C_{10,1}}{\\omega_{d}^{2}} - \\frac{2.0 C_{02,0} C_{10,1} C_{10,2}}{\\omega_{d}^{2}} + \\frac{1.33333333333333 C_{02,0} C_{10,1} C_{20,0}}{\\omega_{d}^{2}} + \\frac{32.0 C_{02,0} C_{11,0} C_{11,1}}{\\omega_{d}^{2}} + \\frac{0.666666666666667 C_{02,1}^{3}}{\\omega_{d}^{2}} + \\frac{0.296296296296298 C_{02,1} C_{02,2}^{2}}{\\omega_{d}^{2}} - \\frac{16.0 C_{02,1} C_{02,2} C_{12,0}}{\\omega_{d}^{2}} + \\frac{8.0 C_{02,1} C_{03,0}^{2}}{\\omega_{d}^{2}} + \\frac{4.0 C_{02,1} C_{03,0} C_{11,0}}{\\omega_{d}^{2}} + \\frac{128.88 C_{02,1} C_{03,1}^{2}}{\\omega_{d}^{2}} + \\frac{8.0 C_{02,1} C_{03,1} C_{11,1}}{\\omega_{d}^{2}} + \\frac{28.0 C_{02,1} C_{04,0}^{2}}{\\omega_{d}^{2}} + \\frac{6.0 C_{02,1} C_{04,0} C_{10,0}}{\\omega_{d}^{2}} + \\frac{22.0 C_{02,1} C_{04,0} C_{20,0}}{\\omega_{d}^{2}} + \\frac{0.333333333333333 C_{02,1} C_{10,0} C_{10,2}}{\\omega_{d}^{2}} - \\frac{0.666666666666667 C_{02,1} C_{10,1}^{2}}{\\omega_{d}^{2}} - \\frac{0.666666666666667 C_{02,1} C_{10,2}^{2}}{\\omega_{d}^{2}} + \\frac{0.333333333333333 C_{02,1} C_{10,2} C_{20,0}}{\\omega_{d}^{2}} - \\frac{18.6666666666667 C_{02,1} C_{11,0}^{2}}{\\omega_{d}^{2}} - \\frac{14.7407407407408 C_{02,1} C_{11,1}^{2}}{\\omega_{d}^{2}} - \\frac{16.0 C_{02,1} C_{12,0}^{2}}{\\omega_{d}^{2}} - \\frac{57.6 C_{02,2} C_{03,0} C_{03,1}}{\\omega_{d}^{2}} + \\frac{5.33333333333333 C_{02,2} C_{03,0} C_{11,1}}{\\omega_{d}^{2}} + \\frac{4.44089209850063 \\cdot 10^{-16} C_{02,2} C_{03,1} C_{11,0}}{\\omega_{d}^{2}} - \\frac{4.0 C_{02,2} C_{04,0} C_{10,1}}{\\omega_{d}^{2}} + \\frac{1.33333333333333 C_{02,2} C_{10,0} C_{10,1}}{\\omega_{d}^{2}} - \\frac{3.33066907387547 \\cdot 10^{-16} C_{02,2} C_{10,1} C_{10,2}}{\\omega_{d}^{2}} + \\frac{1.33333333333333 C_{02,2} C_{10,1} C_{20,0}}{\\omega_{d}^{2}} + \\frac{5.33333333333334 C_{02,2} C_{11,0} C_{11,1}}{\\omega_{d}^{2}} + \\frac{480.0 C_{03,0} C_{03,1} C_{04,0}}{\\omega_{d}^{2}} + \\frac{288.0 C_{03,0} C_{03,1} C_{12,0}}{\\omega_{d}^{2}} + \\frac{104.0 C_{03,0} C_{04,0} C_{11,1}}{\\omega_{d}^{2}} + \\frac{3.55555555555555 C_{03,0} C_{10,0} C_{11,1}}{\\omega_{d}^{2}} + \\frac{32.0 C_{03,0} C_{10,1} C_{11,0}}{\\omega_{d}^{2}} - \\frac{20.0 C_{03,0} C_{10,2} C_{11,1}}{\\omega_{d}^{2}} + \\frac{56.0 C_{03,0} C_{11,1} C_{12,0}}{\\omega_{d}^{2}} + \\frac{8.88888888888889 C_{03,0} C_{11,1} C_{20,0}}{\\omega_{d}^{2}} + \\frac{24.0 C_{03,1} C_{04,0} C_{11,0}}{\\omega_{d}^{2}} + \\frac{32.0 C_{03,1} C_{10,0} C_{11,0}}{\\omega_{d}^{2}} - \\frac{38.4 C_{03,1} C_{10,1} C_{11,1}}{\\omega_{d}^{2}} + \\frac{16.8 C_{03,1} C_{10,2} C_{11,0}}{\\omega_{d}^{2}} + \\frac{120.0 C_{03,1} C_{11,0} C_{12,0}}{\\omega_{d}^{2}} + \\frac{80.0 C_{03,1} C_{11,0} C_{20,0}}{\\omega_{d}^{2}} + \\frac{72.0 C_{04,0} C_{10,1} C_{12,0}}{\\omega_{d}^{2}} + \\frac{96.0 C_{04,0} C_{11,0} C_{11,1}}{\\omega_{d}^{2}}$"
      ],
      "text/plain": [
       "<IPython.core.display.Math object>"
      ]
     },
     "metadata": {},
     "output_type": "display_data"
    }
   ],
   "source": [
    "# Monimial to calculate effective parametric amplitudes for in format (a^+)^k1a^k2 --> ((k1,), (k2,))\n",
    "FINAL_MONOMS = {\n",
    "    \"DETUNING\":          ((1,),(1,)),   # (a^+)a\n",
    "    \"KERR\":              ((2,),(2,)),   # (a^+)^2a^2\n",
    "    \"2PH_SQUEEZING\":     ((2,),(0,))    # (a^+)^2\n",
    "}\n",
    "#Performs Schrieffer-Wolff procedure for the defined model and saves the result to the file.\n",
    "#In current version, it needs to be recalculated for the same model if parameters of SW procedure or Hamiltonian have changed.\n",
    "model = hamiltonian.build_model(FINAL_MONOMS.values(), recalculate=True)\n",
    "omegad = sp.symbols('omega_d', latex_name='\\\\omega_d')\n",
    "omega0 = omegad/2\n",
    "\n",
    "#Show 0th order Schrieffer-Wolff corrections\n",
    "kerr,_ = effective_hamiltonian_coeff_to_latex(model[FINAL_MONOMS[\"KERR\"]][0], omega0, omegad)\n",
    "delta,_ = effective_hamiltonian_coeff_to_latex(model[FINAL_MONOMS[\"DETUNING\"]][0], omega0, omegad)\n",
    "eps2,_ = effective_hamiltonian_coeff_to_latex(model[FINAL_MONOMS[\"2PH_SQUEEZING\"]][0], omega0, omegad)\n",
    "print(\"Self-Kerr amplitude, 0th order:\")\n",
    "display(Math(kerr))\n",
    "print(\"Detuning amplitude, 0th order:\")\n",
    "display(Math(delta))\n",
    "print(\"Two-photon squeezing amplitude, 0th order:\")\n",
    "display(Math(eps2))\n",
    "\n",
    "#Show 1st order Schrieffer-Wolff corrections\n",
    "kerr,_ = effective_hamiltonian_coeff_to_latex(model[FINAL_MONOMS[\"KERR\"]][1], omega0, omegad)\n",
    "delta,_ = effective_hamiltonian_coeff_to_latex(model[FINAL_MONOMS[\"DETUNING\"]][1], omega0, omegad)\n",
    "eps2,_ = effective_hamiltonian_coeff_to_latex(model[FINAL_MONOMS[\"2PH_SQUEEZING\"]][1], omega0, omegad)\n",
    "print(\"Self-Kerr amplitude, 1st order:\")\n",
    "display(Math(kerr))\n",
    "print(\"Detuning amplitude, 1st order:\")\n",
    "display(Math(delta))\n",
    "print(\"Two-photon squeezing amplitude, 1st order:\")\n",
    "display(Math(eps2))\n",
    "\n",
    "#Show 2st order Schrieffer-Wolff corrections\n",
    "kerr,_ = effective_hamiltonian_coeff_to_latex(model[FINAL_MONOMS[\"KERR\"]][2], omega0, omegad)\n",
    "delta,_ = effective_hamiltonian_coeff_to_latex(model[FINAL_MONOMS[\"DETUNING\"]][2], omega0, omegad)\n",
    "eps2,_ = effective_hamiltonian_coeff_to_latex(model[FINAL_MONOMS[\"2PH_SQUEEZING\"]][2], omega0, omegad)\n",
    "print(\"Self-Kerr amplitude, 2nd order:\")\n",
    "display(Math(kerr))\n",
    "print(\"Detuning amplitude, 2nd order:\")\n",
    "display(Math(delta))\n",
    "print(\"Two-photon squeezing amplitude, 2nd order:\")\n",
    "display(Math(eps2))"
   ]
  },
  {
   "cell_type": "markdown",
   "id": "8c77b2c4",
   "metadata": {},
   "source": [
    "## Parametric amplitudes for the effective Hamiltonian "
   ]
  },
  {
   "cell_type": "markdown",
   "id": "df4e0482",
   "metadata": {},
   "source": [
    "<span style=\"font-size:20px;  font-weight:plain;\"> 3. Obtain the supercoefficients for circuit designs of interest by using  Eqs. (B4), (B5) for symmetric Josephson circuits or Eq.\\  (A12}) for circuits with the geometric inductance or broken permutation symmetry. This is the first step where the specific potential function must be considered. In the main text, we describe circuits consisting of an array of SNAILs or asymmetric SQUIDs (see Table I in the main text).</span>\n",
    "\n",
    "<span style=\"font-size:20px;  font-weight:plain;\">4. Define a list of free parameters to consider (in the main text, for example, $\\varphi_e$, $N$, $M$, $\\alpha_\\mathrm{s}$, $x_J$) and fixed parameters ($E_C$, $E_J$). In the main text, we employ an effective drive amplitude $\\Pi=n_\\mathrm{zpf}\\tilde{\\Pi}$ often used to describe the input from the capacitive parametric drive \\cite{frattini2022squeezed,ChapmanStijn2023,jaya2022lind}. For flux-driven circuits, we use $\\tilde{\\Pi}\\equiv\\Pi_a-\\Pi_b=2\\varphi_\\mathrm{ac0}M$ (see details above).</span>"
   ]
  },
  {
   "cell_type": "code",
   "execution_count": 4,
   "id": "a885174e",
   "metadata": {},
   "outputs": [
    {
     "name": "stdout",
     "output_type": "stream",
     "text": [
      "Cnlp for n = 0, l = 2, p = 1 (0th order two-photon squeezing): -0.04406228545153307\n",
      "First-order correction for the self-Kerr: -0.0023196264205310718\n",
      "Self-Kerr all SW orders, sw_order = 2 , calculated for the model: -0.0034017374886158697\n"
     ]
    }
   ],
   "source": [
    "#Parameters for the circuit topology\n",
    "M=2      \n",
    "N=3\n",
    "xJ = 0.3 # Current implementation considers cirtuit with xJ>500 as having no parasitic inductance and closed form for SCs\n",
    "alpha = 0.3\n",
    "phi_ext = 0.33\n",
    "energy_c_large = 0.12 # GHz \n",
    "energy_jj = 400 # GHz\n",
    "config= 0  # Array of SNAILS for config= 0 and Array of SQUIDS for config= 1\n",
    "maxorder = 8 # -1 for circuits without parasitic inductance\n",
    "Pi = 0.5 # Drive amplitude $\\Pi=n_\\mathrm{zpf}\\Tilde{\\Pi}$, $\\Tilde{\\Pi} = \\Omega_d{\\omega}_d/(\\omega_d^2{-}\\omega_0^2)$ ,see Eq. (2), (6)\n",
    "\n",
    "circuit = Circuit(M, xJ, N, alpha, phi_ext, energy_jj, energy_c_large, config, maxorder=maxorder)\n",
    "\n",
    "omega_d = calculate_omega_d(circuit, Pi)\n",
    "print(\"Cnlp for n = 0, l = 2, p = 1 (0th order two-photon squeezing):\", Cnlp(circuit, Pi, 0, 2, 1))\n",
    "kerr_1st_order = effective_hamiltonian_coeff([model[FINAL_MONOMS[\"KERR\"]][0]], circuit, Pi, omega_d/2, omega_d)\n",
    "print(\"First-order correction for the self-Kerr:\", kerr_1st_order)\n",
    "kerr_012_orders = effective_hamiltonian_coeff(model[FINAL_MONOMS[\"KERR\"]], circuit, Pi, omega_d/2, omega_d)\n",
    "print(\"Self-Kerr all SW orders,\",\"sw_order =\", sw_order, \", calculated for the model:\", kerr_012_orders)"
   ]
  },
  {
   "cell_type": "markdown",
   "id": "bf4037c4",
   "metadata": {},
   "source": [
    "<span style=\"font-size:20px;  font-weight:plain;\"> 5. Define the limitations of a simulation. This step is highly problem-specific and is primarily determined by the intended utility of the parametric processes. For the Kerr-cat problem, we introduce the minimal value of Kerr nonlinearity considered. For the beam-splitter interaction problem, we ensure the validity of the dispersive approximation and introduce the minimal value of cavity-cavity cross-Kerr, $\\chi_{ab}$, considered (see next subsection). So, for example, to find the maximum  Kerr-cat size, for each circuit design we fix parameters $N$, $M$, $\\alpha_\\mathrm{s}$, $x_J$, $\\Pi$, require $|K({\\Pi})|>K_\\mathrm{lim}=1\\,\\mathrm{MHz}$ and scan all values of external flux, $\\varphi_e$.</span>"
   ]
  },
  {
   "cell_type": "code",
   "execution_count": 5,
   "id": "03fa5f7f",
   "metadata": {},
   "outputs": [],
   "source": [
    "Klim = 1e-3 # 1 MHz\n",
    "max_drive_amp = 0.5 # Maximum drive amplitude to consider"
   ]
  },
  {
   "cell_type": "markdown",
   "id": "800288b4",
   "metadata": {},
   "source": [
    "## Sweeping flux bias to find maximum size of the Kerr-cat\n",
    "<span style=\"font-size:17px;  font-weight:plain;\"> Softly checks for maximum of Kerr-cat size by sweeping flux bias and looking for driven Kerr-free flux bias.\n",
    "If there is self-Kerr K=0 estimates the corresponding flux bias \n",
    "which futher used for fine-tuning to point with K=>Klim </span>"
   ]
  },
  {
   "cell_type": "code",
   "execution_count": 6,
   "id": "51a6f5c5",
   "metadata": {},
   "outputs": [
    {
     "name": "stdout",
     "output_type": "stream",
     "text": [
      "Loaded array for model 'Kerr-cat' from file.\n",
      "0.4947382695520874\n"
     ]
    }
   ],
   "source": [
    "load_or_initialize_kerr_cat_model() # makes the Kerr-cat model available internally for the Kerr-cat specific methods\n",
    "x, lazy_phi_e_max = lazy_size_max(circuit, max_drive_amp = max_drive_amp)\n",
    "print(lazy_phi_e_max)"
   ]
  },
  {
   "cell_type": "markdown",
   "id": "b20b6c27",
   "metadata": {},
   "source": [
    "<span style=\"font-size:17px;  font-weight:plain;\"> Returns maximum Kerr-cat size for minimal self-Kerr magnitude for particular circuit scheme by looking around K=0 flux bias</span>"
   ]
  },
  {
   "cell_type": "code",
   "execution_count": 7,
   "id": "085310b3",
   "metadata": {},
   "outputs": [
    {
     "name": "stdout",
     "output_type": "stream",
     "text": [
      "Max size and its phi_ext: 65.34491596550693 0.4946232695520873\n"
     ]
    }
   ],
   "source": [
    "max_size, phi_e_max = maxSize_opt(circuit, lazy_phi_e_max, Klim = Klim, max_drive_amp = max_drive_amp)\n",
    "print('Max size and its phi_ext:', max_size, phi_e_max)"
   ]
  },
  {
   "cell_type": "markdown",
   "id": "ef1a1204",
   "metadata": {},
   "source": [
    "<span style=\"font-size:17px;  font-weight:plain;\"> For a different drive amplitude:</span>"
   ]
  },
  {
   "cell_type": "code",
   "execution_count": 8,
   "id": "d5d07d5c",
   "metadata": {},
   "outputs": [
    {
     "name": "stdout",
     "output_type": "stream",
     "text": [
      "0.4945976246085904\n"
     ]
    }
   ],
   "source": [
    "max_drive_amp = 1. # Maximum drive amplitude to consider\n",
    "_, lazy_phi_e_max = lazy_size_max(circuit, max_drive_amp = max_drive_amp)\n",
    "print(lazy_phi_e_max)"
   ]
  },
  {
   "cell_type": "code",
   "execution_count": 9,
   "id": "6b846f84",
   "metadata": {},
   "outputs": [
    {
     "name": "stdout",
     "output_type": "stream",
     "text": [
      "Max size and its phi_ext: 113.63318073637957 0.4947326246085905\n"
     ]
    }
   ],
   "source": [
    "max_size, phi_e_max = maxSize_opt(circuit, lazy_phi_e_max, Klim = Klim, max_drive_amp = max_drive_amp)\n",
    "print('Max size and its phi_ext:', max_size, phi_e_max)"
   ]
  },
  {
   "cell_type": "code",
   "execution_count": null,
   "id": "14d1a626",
   "metadata": {},
   "outputs": [],
   "source": []
  }
 ],
 "metadata": {
  "kernelspec": {
   "display_name": "Python 3 (ipykernel)",
   "language": "python",
   "name": "python3"
  },
  "language_info": {
   "codemirror_mode": {
    "name": "ipython",
    "version": 3
   },
   "file_extension": ".py",
   "mimetype": "text/x-python",
   "name": "python",
   "nbconvert_exporter": "python",
   "pygments_lexer": "ipython3",
   "version": "3.13.1"
  }
 },
 "nbformat": 4,
 "nbformat_minor": 5
}
