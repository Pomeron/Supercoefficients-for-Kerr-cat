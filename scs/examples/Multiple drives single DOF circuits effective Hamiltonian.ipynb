{
 "cells": [
  {
   "cell_type": "code",
   "execution_count": 1,
   "id": "78278fd7",
   "metadata": {},
   "outputs": [],
   "source": [
    "#Imports\n",
    "from IPython.display import display, Math\n",
    "import sympy as sp\n",
    "from scs.utils_opt import *\n",
    "from swg.sw_procedure import Hamiltonian\n",
    "from scs.supercoeffs import Circuit, Cnlp"
   ]
  },
  {
   "cell_type": "markdown",
   "id": "c82a80cc",
   "metadata": {},
   "source": [
    "# Multiple drives single DOF circuits effective Hamiltonian"
   ]
  },
  {
   "cell_type": "markdown",
   "id": "37fb1b9a",
   "metadata": {},
   "source": [
    "The difinition of time-dependent Hamiltonian for the single DOF circuit  with multiple drives (see Eq. (A32))\n",
    "$\\hat{{H}}=\\omega_0\\hat{a}^\\dagger\\hat{a}+\\sum\\limits_{n,l,\\{p\\}}^{\\{l,\\{p\\}\\}^\\prime}C_{nl,\\{p\\}}(\\hat{a}^{\\dagger n}\\hat{a}^{n+l}+\\hat{a}^{\\dagger n+l}\\hat{a}^{n})\\prod\\limits_{i}^{K+1}(e^{ip_i(\\omega_{di}t+\\gamma_i)}+e^{-ip_i(\\omega_{di}t+\\gamma_i)})$\n",
    "allows us agnistically derive effective Hamiltonian in terms of Schrieffer-Wolff procedure"
   ]
  },
  {
   "cell_type": "code",
   "execution_count": 2,
   "id": "5a904705",
   "metadata": {},
   "outputs": [],
   "source": [
    "sw_order = 1      # Schrieffer-Wolff procedure order (RWA is zero order)\n",
    "max_order = 5     # maximum order of terms to consider in normal-ordered time-dependent \n",
    "                  #Hamiltonian 2n+l+p ≤ 4 (p set to be ≤ 3)\n",
    "dr_mode_dim = 3   # number of drives in the circuit\n",
    "hamiltonian = Hamiltonian('three_drives_model', dr_mode_dim, sw_order=sw_order, max_order=max_order)\n",
    "#Specific condition between frequencies (currently only single condition is allowed,\n",
    "#so adding second condition will just overwrite the previous one)\n",
    "hamiltonian.add_freqs_condition([2],[1,1,2])# the condition omega^prime=omega_d1+omega_d2+2*omega_d2 is ensured "
   ]
  },
  {
   "cell_type": "code",
   "execution_count": 3,
   "id": "df8b7770",
   "metadata": {},
   "outputs": [
    {
     "name": "stdout",
     "output_type": "stream",
     "text": [
      "((1,), (1,))\n",
      "((2,), (2,))\n",
      "((2,), (0,))\n",
      "Initialized and saved array for model 'three_drives_model' to file.\n",
      "Self-Kerr amplitude, 1st order:\n"
     ]
    },
    {
     "data": {
      "text/latex": [
       "$\\displaystyle - \\frac{6.0 C_{01,000} C_{21,000}}{\\omega_{d} + \\omega_{d2} + 2 \\omega_{d3}} - \\frac{6.0 C_{02,000} C_{12,000}}{\\omega_{d} + \\omega_{d2} + 2 \\omega_{d3}} + \\frac{C_{02,001} C_{12,001} \\left(- 48.0 \\omega_{d} - 48.0 \\omega_{d2} - 96.0 \\omega_{d3}\\right)}{\\left(2 \\omega_{d} + 2 \\omega_{d2} + 3 \\omega_{d3}\\right) \\left(2 \\omega_{d} + 2 \\omega_{d2} + 5 \\omega_{d3}\\right)} + \\frac{C_{02,010} C_{12,010} \\left(- 48.0 \\omega_{d} - 48.0 \\omega_{d2} - 96.0 \\omega_{d3}\\right)}{\\left(2 \\omega_{d} + \\omega_{d2} + 4 \\omega_{d3}\\right) \\left(2 \\omega_{d} + 3 \\omega_{d2} + 4 \\omega_{d3}\\right)} + \\frac{C_{02,100} C_{12,100} \\left(- 48.0 \\omega_{d} - 48.0 \\omega_{d2} - 96.0 \\omega_{d3}\\right)}{\\left(\\omega_{d} + 2 \\omega_{d2} + 4 \\omega_{d3}\\right) \\left(3 \\omega_{d} + 2 \\omega_{d2} + 4 \\omega_{d3}\\right)} - \\frac{3.0 C_{03,000}^{2}}{\\omega_{d} + \\omega_{d2} + 2 \\omega_{d3}} - \\frac{24.0 C_{03,000} C_{13,000}}{\\omega_{d} + \\omega_{d2} + 2 \\omega_{d3}} + \\frac{C_{03,001}^{2} \\left(- 54.0 \\omega_{d} - 54.0 \\omega_{d2} - 108.0 \\omega_{d3}\\right)}{\\left(3 \\omega_{d} + 3 \\omega_{d2} + 5 \\omega_{d3}\\right) \\left(3 \\omega_{d} + 3 \\omega_{d2} + 7 \\omega_{d3}\\right)} + \\frac{C_{03,002}^{2} \\left(- 54.0 \\omega_{d} - 54.0 \\omega_{d2} - 108.0 \\omega_{d3}\\right)}{\\left(3 \\omega_{d} + 3 \\omega_{d2} + 4 \\omega_{d3}\\right) \\left(3 \\omega_{d} + 3 \\omega_{d2} + 8 \\omega_{d3}\\right)} + \\frac{C_{03,010}^{2} \\left(- 54.0 \\omega_{d} - 54.0 \\omega_{d2} - 108.0 \\omega_{d3}\\right)}{\\left(3 \\omega_{d} + 2 \\omega_{d2} + 6 \\omega_{d3}\\right) \\left(3 \\omega_{d} + 4 \\omega_{d2} + 6 \\omega_{d3}\\right)} + C_{03,011}^{2} \\left(- \\frac{9.0}{3 \\omega_{d} + 4 \\omega_{d2} + 7 \\omega_{d3}} - \\frac{9.0}{3 \\omega_{d} + 4 \\omega_{d2} + 5 \\omega_{d3}} - \\frac{9.0}{3 \\omega_{d} + 2 \\omega_{d2} + 7 \\omega_{d3}} - \\frac{9.0}{3 \\omega_{d} + 2 \\omega_{d2} + 5 \\omega_{d3}}\\right) + \\frac{C_{03,020}^{2} \\left(- 54.0 \\omega_{d} - 54.0 \\omega_{d2} - 108.0 \\omega_{d3}\\right)}{\\left(3 \\omega_{d} + \\omega_{d2} + 6 \\omega_{d3}\\right) \\left(3 \\omega_{d} + 5 \\omega_{d2} + 6 \\omega_{d3}\\right)} + \\frac{C_{03,100}^{2} \\left(- 54.0 \\omega_{d} - 54.0 \\omega_{d2} - 108.0 \\omega_{d3}\\right)}{\\left(2 \\omega_{d} + 3 \\omega_{d2} + 6 \\omega_{d3}\\right) \\left(4 \\omega_{d} + 3 \\omega_{d2} + 6 \\omega_{d3}\\right)} + C_{03,101}^{2} \\left(- \\frac{9.0}{4 \\omega_{d} + 3 \\omega_{d2} + 7 \\omega_{d3}} - \\frac{9.0}{4 \\omega_{d} + 3 \\omega_{d2} + 5 \\omega_{d3}} - \\frac{9.0}{2 \\omega_{d} + 3 \\omega_{d2} + 7 \\omega_{d3}} - \\frac{9.0}{2 \\omega_{d} + 3 \\omega_{d2} + 5 \\omega_{d3}}\\right) + C_{03,110}^{2} \\left(- \\frac{9.0}{4 \\omega_{d} + 4 \\omega_{d2} + 6 \\omega_{d3}} - \\frac{9.0}{4 \\omega_{d} + 2 \\omega_{d2} + 6 \\omega_{d3}} - \\frac{9.0}{2 \\omega_{d} + 4 \\omega_{d2} + 6 \\omega_{d3}} - \\frac{9.0}{2 \\omega_{d} + 2 \\omega_{d2} + 6 \\omega_{d3}}\\right) + \\frac{C_{03,200}^{2} \\left(- 54.0 \\omega_{d} - 54.0 \\omega_{d2} - 108.0 \\omega_{d3}\\right)}{\\left(\\omega_{d} + 3 \\omega_{d2} + 6 \\omega_{d3}\\right) \\left(5 \\omega_{d} + 3 \\omega_{d2} + 6 \\omega_{d3}\\right)} - \\frac{18.0 C_{04,000}^{2}}{\\omega_{d} + \\omega_{d2} + 2 \\omega_{d3}} + \\frac{C_{04,001}^{2} \\left(- 576.0 \\omega_{d} - 576.0 \\omega_{d2} - 1152.0 \\omega_{d3}\\right)}{\\left(4 \\omega_{d} + 4 \\omega_{d2} + 7 \\omega_{d3}\\right) \\left(4 \\omega_{d} + 4 \\omega_{d2} + 9 \\omega_{d3}\\right)} + \\frac{C_{04,010}^{2} \\left(- 576.0 \\omega_{d} - 576.0 \\omega_{d2} - 1152.0 \\omega_{d3}\\right)}{\\left(4 \\omega_{d} + 3 \\omega_{d2} + 8 \\omega_{d3}\\right) \\left(4 \\omega_{d} + 5 \\omega_{d2} + 8 \\omega_{d3}\\right)} + \\frac{C_{04,100}^{2} \\left(- 576.0 \\omega_{d} - 576.0 \\omega_{d2} - 1152.0 \\omega_{d3}\\right)}{\\left(3 \\omega_{d} + 4 \\omega_{d2} + 8 \\omega_{d3}\\right) \\left(5 \\omega_{d} + 4 \\omega_{d2} + 8 \\omega_{d3}\\right)} - \\frac{120.0 C_{05,000}^{2}}{\\omega_{d} + \\omega_{d2} + 2 \\omega_{d3}} - \\frac{3.0 C_{11,000}^{2}}{\\omega_{d} + \\omega_{d2} + 2 \\omega_{d3}} - \\frac{12.0 C_{11,000} C_{21,000}}{\\omega_{d} + \\omega_{d2} + 2 \\omega_{d3}} + \\frac{C_{11,001}^{2} \\left(- 6.0 \\omega_{d} - 6.0 \\omega_{d2} - 12.0 \\omega_{d3}\\right)}{\\left(\\omega_{d} + \\omega_{d2} + \\omega_{d3}\\right) \\left(\\omega_{d} + \\omega_{d2} + 3 \\omega_{d3}\\right)} + \\frac{C_{11,002}^{2} \\left(- 6.0 \\omega_{d} - 6.0 \\omega_{d2} - 12.0 \\omega_{d3}\\right)}{\\left(\\omega_{d} + \\omega_{d2}\\right) \\left(\\omega_{d} + \\omega_{d2} + 4 \\omega_{d3}\\right)} + \\frac{C_{11,010}^{2} \\left(- 6.0 \\omega_{d} - 6.0 \\omega_{d2} - 12.0 \\omega_{d3}\\right)}{\\left(\\omega_{d} + 2 \\omega_{d3}\\right) \\left(\\omega_{d} + 2 \\omega_{d2} + 2 \\omega_{d3}\\right)} + C_{11,011}^{2} \\left(- \\frac{3.0}{\\omega_{d} + 2 \\omega_{d2} + 3 \\omega_{d3}} - \\frac{3.0}{\\omega_{d} + 2 \\omega_{d2} + \\omega_{d3}} - \\frac{3.0}{\\omega_{d} + 3 \\omega_{d3}} - \\frac{3.0}{\\omega_{d} + \\omega_{d3}}\\right) + \\frac{C_{11,020}^{2} \\left(- 6.0 \\omega_{d} - 6.0 \\omega_{d2} - 12.0 \\omega_{d3}\\right)}{\\left(\\omega_{d} - \\omega_{d2} + 2 \\omega_{d3}\\right) \\left(\\omega_{d} + 3 \\omega_{d2} + 2 \\omega_{d3}\\right)} + \\frac{C_{11,100}^{2} \\left(- 6.0 \\omega_{d} - 6.0 \\omega_{d2} - 12.0 \\omega_{d3}\\right)}{\\left(\\omega_{d2} + 2 \\omega_{d3}\\right) \\left(2 \\omega_{d} + \\omega_{d2} + 2 \\omega_{d3}\\right)} + C_{11,101}^{2} \\left(- \\frac{3.0}{2 \\omega_{d} + \\omega_{d2} + 3 \\omega_{d3}} - \\frac{3.0}{2 \\omega_{d} + \\omega_{d2} + \\omega_{d3}} - \\frac{3.0}{\\omega_{d2} + 3 \\omega_{d3}} - \\frac{3.0}{\\omega_{d2} + \\omega_{d3}}\\right) + C_{11,110}^{2} \\left(- \\frac{3.0}{2 \\omega_{d} + 2 \\omega_{d2} + 2 \\omega_{d3}} - \\frac{3.0}{2 \\omega_{d2} + 2 \\omega_{d3}} - \\frac{3.0}{2 \\omega_{d} + 2 \\omega_{d3}} - \\frac{1.5}{\\omega_{d3}}\\right) + \\frac{C_{11,200}^{2} \\left(- 6.0 \\omega_{d} - 6.0 \\omega_{d2} - 12.0 \\omega_{d3}\\right)}{\\left(- \\omega_{d} + \\omega_{d2} + 2 \\omega_{d3}\\right) \\left(3 \\omega_{d} + \\omega_{d2} + 2 \\omega_{d3}\\right)} - \\frac{9.0 C_{12,000}^{2}}{\\omega_{d} + \\omega_{d2} + 2 \\omega_{d3}} + \\frac{C_{12,001}^{2} \\left(- 72.0 \\omega_{d} - 72.0 \\omega_{d2} - 144.0 \\omega_{d3}\\right)}{\\left(2 \\omega_{d} + 2 \\omega_{d2} + 3 \\omega_{d3}\\right) \\left(2 \\omega_{d} + 2 \\omega_{d2} + 5 \\omega_{d3}\\right)} + \\frac{C_{12,010}^{2} \\left(- 72.0 \\omega_{d} - 72.0 \\omega_{d2} - 144.0 \\omega_{d3}\\right)}{\\left(2 \\omega_{d} + \\omega_{d2} + 4 \\omega_{d3}\\right) \\left(2 \\omega_{d} + 3 \\omega_{d2} + 4 \\omega_{d3}\\right)} + \\frac{C_{12,100}^{2} \\left(- 72.0 \\omega_{d} - 72.0 \\omega_{d2} - 144.0 \\omega_{d3}\\right)}{\\left(\\omega_{d} + 2 \\omega_{d2} + 4 \\omega_{d3}\\right) \\left(3 \\omega_{d} + 2 \\omega_{d2} + 4 \\omega_{d3}\\right)} - \\frac{32.0 C_{13,000}^{2}}{\\omega_{d} + \\omega_{d2} + 2 \\omega_{d3}} - \\frac{6.0 C_{21,000}^{2}}{\\omega_{d} + \\omega_{d2} + 2 \\omega_{d3}}$"
      ],
      "text/plain": [
       "<IPython.core.display.Math object>"
      ]
     },
     "metadata": {},
     "output_type": "display_data"
    },
    {
     "name": "stdout",
     "output_type": "stream",
     "text": [
      "Detuning amplitude, 1st order:\n"
     ]
    },
    {
     "data": {
      "text/latex": [
       "$\\displaystyle - \\frac{4.0 C_{01,000} C_{11,000}}{\\omega_{d} + \\omega_{d2} + 2 \\omega_{d3}} + \\frac{C_{01,001} C_{11,001} \\left(- 8.0 \\omega_{d} - 8.0 \\omega_{d2} - 16.0 \\omega_{d3}\\right)}{\\left(\\omega_{d} + \\omega_{d2} + \\omega_{d3}\\right) \\left(\\omega_{d} + \\omega_{d2} + 3 \\omega_{d3}\\right)} + \\frac{C_{01,002} C_{11,002} \\left(- 8.0 \\omega_{d} - 8.0 \\omega_{d2} - 16.0 \\omega_{d3}\\right)}{\\left(\\omega_{d} + \\omega_{d2}\\right) \\left(\\omega_{d} + \\omega_{d2} + 4 \\omega_{d3}\\right)} + \\frac{C_{01,010} C_{11,010} \\left(- 8.0 \\omega_{d} - 8.0 \\omega_{d2} - 16.0 \\omega_{d3}\\right)}{\\left(\\omega_{d} + 2 \\omega_{d3}\\right) \\left(\\omega_{d} + 2 \\omega_{d2} + 2 \\omega_{d3}\\right)} + C_{01,011} C_{11,011} \\left(- \\frac{4.0}{\\omega_{d} + 2 \\omega_{d2} + 3 \\omega_{d3}} - \\frac{4.0}{\\omega_{d} + 2 \\omega_{d2} + \\omega_{d3}} - \\frac{4.0}{\\omega_{d} + 3 \\omega_{d3}} - \\frac{4.0}{\\omega_{d} + \\omega_{d3}}\\right) + \\frac{C_{01,020} C_{11,020} \\left(- 8.0 \\omega_{d} - 8.0 \\omega_{d2} - 16.0 \\omega_{d3}\\right)}{\\left(\\omega_{d} - \\omega_{d2} + 2 \\omega_{d3}\\right) \\left(\\omega_{d} + 3 \\omega_{d2} + 2 \\omega_{d3}\\right)} + \\frac{C_{01,100} C_{11,100} \\left(- 8.0 \\omega_{d} - 8.0 \\omega_{d2} - 16.0 \\omega_{d3}\\right)}{\\left(\\omega_{d2} + 2 \\omega_{d3}\\right) \\left(2 \\omega_{d} + \\omega_{d2} + 2 \\omega_{d3}\\right)} + C_{01,101} C_{11,101} \\left(- \\frac{4.0}{2 \\omega_{d} + \\omega_{d2} + 3 \\omega_{d3}} - \\frac{4.0}{2 \\omega_{d} + \\omega_{d2} + \\omega_{d3}} - \\frac{4.0}{\\omega_{d2} + 3 \\omega_{d3}} - \\frac{4.0}{\\omega_{d2} + \\omega_{d3}}\\right) + C_{01,110} C_{11,110} \\left(- \\frac{4.0}{2 \\omega_{d} + 2 \\omega_{d2} + 2 \\omega_{d3}} - \\frac{4.0}{2 \\omega_{d2} + 2 \\omega_{d3}} - \\frac{4.0}{2 \\omega_{d} + 2 \\omega_{d3}} - \\frac{2.0}{\\omega_{d3}}\\right) + \\frac{C_{01,200} C_{11,200} \\left(- 8.0 \\omega_{d} - 8.0 \\omega_{d2} - 16.0 \\omega_{d3}\\right)}{\\left(- \\omega_{d} + \\omega_{d2} + 2 \\omega_{d3}\\right) \\left(3 \\omega_{d} + \\omega_{d2} + 2 \\omega_{d3}\\right)} - \\frac{2.0 C_{02,000}^{2}}{\\omega_{d} + \\omega_{d2} + 2 \\omega_{d3}} - \\frac{6.0 C_{02,000} C_{12,000}}{\\omega_{d} + \\omega_{d2} + 2 \\omega_{d3}} + \\frac{C_{02,001}^{2} \\left(- 16.0 \\omega_{d} - 16.0 \\omega_{d2} - 32.0 \\omega_{d3}\\right)}{\\left(2 \\omega_{d} + 2 \\omega_{d2} + 3 \\omega_{d3}\\right) \\left(2 \\omega_{d} + 2 \\omega_{d2} + 5 \\omega_{d3}\\right)} + \\frac{C_{02,001} C_{12,001} \\left(- 48.0 \\omega_{d} - 48.0 \\omega_{d2} - 96.0 \\omega_{d3}\\right)}{\\left(2 \\omega_{d} + 2 \\omega_{d2} + 3 \\omega_{d3}\\right) \\left(2 \\omega_{d} + 2 \\omega_{d2} + 5 \\omega_{d3}\\right)} + \\frac{C_{02,002}^{2} \\left(- 4.0 \\omega_{d} - 4.0 \\omega_{d2} - 8.0 \\omega_{d3}\\right)}{\\left(\\omega_{d} + \\omega_{d2} + \\omega_{d3}\\right) \\left(\\omega_{d} + \\omega_{d2} + 3 \\omega_{d3}\\right)} + \\frac{C_{02,003}^{2} \\left(- 16.0 \\omega_{d} - 16.0 \\omega_{d2} - 32.0 \\omega_{d3}\\right)}{\\left(2 \\omega_{d} + 2 \\omega_{d2} + \\omega_{d3}\\right) \\left(2 \\omega_{d} + 2 \\omega_{d2} + 7 \\omega_{d3}\\right)} + \\frac{C_{02,010}^{2} \\left(- 16.0 \\omega_{d} - 16.0 \\omega_{d2} - 32.0 \\omega_{d3}\\right)}{\\left(2 \\omega_{d} + \\omega_{d2} + 4 \\omega_{d3}\\right) \\left(2 \\omega_{d} + 3 \\omega_{d2} + 4 \\omega_{d3}\\right)} + \\frac{C_{02,010} C_{12,010} \\left(- 48.0 \\omega_{d} - 48.0 \\omega_{d2} - 96.0 \\omega_{d3}\\right)}{\\left(2 \\omega_{d} + \\omega_{d2} + 4 \\omega_{d3}\\right) \\left(2 \\omega_{d} + 3 \\omega_{d2} + 4 \\omega_{d3}\\right)} + C_{02,011}^{2} \\left(- \\frac{4.0}{2 \\omega_{d} + 3 \\omega_{d2} + 5 \\omega_{d3}} - \\frac{4.0}{2 \\omega_{d} + 3 \\omega_{d2} + 3 \\omega_{d3}} - \\frac{4.0}{2 \\omega_{d} + \\omega_{d2} + 5 \\omega_{d3}} - \\frac{4.0}{2 \\omega_{d} + \\omega_{d2} + 3 \\omega_{d3}}\\right) + C_{02,012}^{2} \\left(- \\frac{4.0}{2 \\omega_{d} + 3 \\omega_{d2} + 6 \\omega_{d3}} - \\frac{4.0}{2 \\omega_{d} + 3 \\omega_{d2} + 2 \\omega_{d3}} - \\frac{4.0}{2 \\omega_{d} + \\omega_{d2} + 6 \\omega_{d3}} - \\frac{4.0}{2 \\omega_{d} + \\omega_{d2} + 2 \\omega_{d3}}\\right) + \\frac{C_{02,020}^{2} \\left(- 4.0 \\omega_{d} - 4.0 \\omega_{d2} - 8.0 \\omega_{d3}\\right)}{\\left(\\omega_{d} + 2 \\omega_{d3}\\right) \\left(\\omega_{d} + 2 \\omega_{d2} + 2 \\omega_{d3}\\right)} + C_{02,021}^{2} \\left(- \\frac{4.0}{2 \\omega_{d} + 4 \\omega_{d2} + 5 \\omega_{d3}} - \\frac{4.0}{2 \\omega_{d} + 4 \\omega_{d2} + 3 \\omega_{d3}} - \\frac{4.0}{2 \\omega_{d} + 5 \\omega_{d3}} - \\frac{4.0}{2 \\omega_{d} + 3 \\omega_{d3}}\\right) + \\frac{C_{02,030}^{2} \\left(- 16.0 \\omega_{d} - 16.0 \\omega_{d2} - 32.0 \\omega_{d3}\\right)}{\\left(2 \\omega_{d} - \\omega_{d2} + 4 \\omega_{d3}\\right) \\left(2 \\omega_{d} + 5 \\omega_{d2} + 4 \\omega_{d3}\\right)} + \\frac{C_{02,100}^{2} \\left(- 16.0 \\omega_{d} - 16.0 \\omega_{d2} - 32.0 \\omega_{d3}\\right)}{\\left(\\omega_{d} + 2 \\omega_{d2} + 4 \\omega_{d3}\\right) \\left(3 \\omega_{d} + 2 \\omega_{d2} + 4 \\omega_{d3}\\right)} + \\frac{C_{02,100} C_{12,100} \\left(- 48.0 \\omega_{d} - 48.0 \\omega_{d2} - 96.0 \\omega_{d3}\\right)}{\\left(\\omega_{d} + 2 \\omega_{d2} + 4 \\omega_{d3}\\right) \\left(3 \\omega_{d} + 2 \\omega_{d2} + 4 \\omega_{d3}\\right)} + C_{02,101}^{2} \\left(- \\frac{4.0}{3 \\omega_{d} + 2 \\omega_{d2} + 5 \\omega_{d3}} - \\frac{4.0}{3 \\omega_{d} + 2 \\omega_{d2} + 3 \\omega_{d3}} - \\frac{4.0}{\\omega_{d} + 2 \\omega_{d2} + 5 \\omega_{d3}} - \\frac{4.0}{\\omega_{d} + 2 \\omega_{d2} + 3 \\omega_{d3}}\\right) + C_{02,102}^{2} \\left(- \\frac{4.0}{3 \\omega_{d} + 2 \\omega_{d2} + 6 \\omega_{d3}} - \\frac{4.0}{3 \\omega_{d} + 2 \\omega_{d2} + 2 \\omega_{d3}} - \\frac{4.0}{\\omega_{d} + 2 \\omega_{d2} + 6 \\omega_{d3}} - \\frac{4.0}{\\omega_{d} + 2 \\omega_{d2} + 2 \\omega_{d3}}\\right) + C_{02,110}^{2} \\left(- \\frac{4.0}{3 \\omega_{d} + 3 \\omega_{d2} + 4 \\omega_{d3}} - \\frac{4.0}{3 \\omega_{d} + \\omega_{d2} + 4 \\omega_{d3}} - \\frac{4.0}{\\omega_{d} + 3 \\omega_{d2} + 4 \\omega_{d3}} - \\frac{4.0}{\\omega_{d} + \\omega_{d2} + 4 \\omega_{d3}}\\right) + C_{02,111}^{2} \\left(- \\frac{4.0}{3 \\omega_{d} + 3 \\omega_{d2} + 5 \\omega_{d3}} - \\frac{4.0}{3 \\omega_{d} + 3 \\omega_{d2} + 3 \\omega_{d3}} - \\frac{4.0}{3 \\omega_{d} + \\omega_{d2} + 5 \\omega_{d3}} - \\frac{4.0}{3 \\omega_{d} + \\omega_{d2} + 3 \\omega_{d3}} - \\frac{4.0}{\\omega_{d} + 3 \\omega_{d2} + 5 \\omega_{d3}} - \\frac{4.0}{\\omega_{d} + 3 \\omega_{d2} + 3 \\omega_{d3}} - \\frac{4.0}{\\omega_{d} + \\omega_{d2} + 5 \\omega_{d3}} - \\frac{4.0}{\\omega_{d} + \\omega_{d2} + 3 \\omega_{d3}}\\right) + C_{02,120}^{2} \\left(- \\frac{4.0}{3 \\omega_{d} + 4 \\omega_{d2} + 4 \\omega_{d3}} - \\frac{4.0}{\\omega_{d} + 4 \\omega_{d2} + 4 \\omega_{d3}} - \\frac{4.0}{3 \\omega_{d} + 4 \\omega_{d3}} - \\frac{4.0}{\\omega_{d} + 4 \\omega_{d3}}\\right) + \\frac{C_{02,200}^{2} \\left(- 4.0 \\omega_{d} - 4.0 \\omega_{d2} - 8.0 \\omega_{d3}\\right)}{\\left(\\omega_{d2} + 2 \\omega_{d3}\\right) \\left(2 \\omega_{d} + \\omega_{d2} + 2 \\omega_{d3}\\right)} + C_{02,201}^{2} \\left(- \\frac{4.0}{4 \\omega_{d} + 2 \\omega_{d2} + 5 \\omega_{d3}} - \\frac{4.0}{4 \\omega_{d} + 2 \\omega_{d2} + 3 \\omega_{d3}} - \\frac{4.0}{2 \\omega_{d2} + 5 \\omega_{d3}} - \\frac{4.0}{2 \\omega_{d2} + 3 \\omega_{d3}}\\right) + C_{02,210}^{2} \\left(- \\frac{4.0}{4 \\omega_{d} + 3 \\omega_{d2} + 4 \\omega_{d3}} - \\frac{4.0}{4 \\omega_{d} + \\omega_{d2} + 4 \\omega_{d3}} - \\frac{4.0}{3 \\omega_{d2} + 4 \\omega_{d3}} - \\frac{4.0}{\\omega_{d2} + 4 \\omega_{d3}}\\right) + \\frac{C_{02,300}^{2} \\left(- 16.0 \\omega_{d} - 16.0 \\omega_{d2} - 32.0 \\omega_{d3}\\right)}{\\left(- \\omega_{d} + 2 \\omega_{d2} + 4 \\omega_{d3}\\right) \\left(5 \\omega_{d} + 2 \\omega_{d2} + 4 \\omega_{d3}\\right)} - \\frac{6.0 C_{03,000}^{2}}{\\omega_{d} + \\omega_{d2} + 2 \\omega_{d3}} - \\frac{16.0 C_{03,000} C_{13,000}}{\\omega_{d} + \\omega_{d2} + 2 \\omega_{d3}} + \\frac{C_{03,001}^{2} \\left(- 108.0 \\omega_{d} - 108.0 \\omega_{d2} - 216.0 \\omega_{d3}\\right)}{\\left(3 \\omega_{d} + 3 \\omega_{d2} + 5 \\omega_{d3}\\right) \\left(3 \\omega_{d} + 3 \\omega_{d2} + 7 \\omega_{d3}\\right)} + \\frac{C_{03,002}^{2} \\left(- 108.0 \\omega_{d} - 108.0 \\omega_{d2} - 216.0 \\omega_{d3}\\right)}{\\left(3 \\omega_{d} + 3 \\omega_{d2} + 4 \\omega_{d3}\\right) \\left(3 \\omega_{d} + 3 \\omega_{d2} + 8 \\omega_{d3}\\right)} + \\frac{C_{03,010}^{2} \\left(- 108.0 \\omega_{d} - 108.0 \\omega_{d2} - 216.0 \\omega_{d3}\\right)}{\\left(3 \\omega_{d} + 2 \\omega_{d2} + 6 \\omega_{d3}\\right) \\left(3 \\omega_{d} + 4 \\omega_{d2} + 6 \\omega_{d3}\\right)} + C_{03,011}^{2} \\left(- \\frac{18.0}{3 \\omega_{d} + 4 \\omega_{d2} + 7 \\omega_{d3}} - \\frac{18.0}{3 \\omega_{d} + 4 \\omega_{d2} + 5 \\omega_{d3}} - \\frac{18.0}{3 \\omega_{d} + 2 \\omega_{d2} + 7 \\omega_{d3}} - \\frac{18.0}{3 \\omega_{d} + 2 \\omega_{d2} + 5 \\omega_{d3}}\\right) + \\frac{C_{03,020}^{2} \\left(- 108.0 \\omega_{d} - 108.0 \\omega_{d2} - 216.0 \\omega_{d3}\\right)}{\\left(3 \\omega_{d} + \\omega_{d2} + 6 \\omega_{d3}\\right) \\left(3 \\omega_{d} + 5 \\omega_{d2} + 6 \\omega_{d3}\\right)} + \\frac{C_{03,100}^{2} \\left(- 108.0 \\omega_{d} - 108.0 \\omega_{d2} - 216.0 \\omega_{d3}\\right)}{\\left(2 \\omega_{d} + 3 \\omega_{d2} + 6 \\omega_{d3}\\right) \\left(4 \\omega_{d} + 3 \\omega_{d2} + 6 \\omega_{d3}\\right)} + C_{03,101}^{2} \\left(- \\frac{18.0}{4 \\omega_{d} + 3 \\omega_{d2} + 7 \\omega_{d3}} - \\frac{18.0}{4 \\omega_{d} + 3 \\omega_{d2} + 5 \\omega_{d3}} - \\frac{18.0}{2 \\omega_{d} + 3 \\omega_{d2} + 7 \\omega_{d3}} - \\frac{18.0}{2 \\omega_{d} + 3 \\omega_{d2} + 5 \\omega_{d3}}\\right) + C_{03,110}^{2} \\left(- \\frac{18.0}{4 \\omega_{d} + 4 \\omega_{d2} + 6 \\omega_{d3}} - \\frac{18.0}{4 \\omega_{d} + 2 \\omega_{d2} + 6 \\omega_{d3}} - \\frac{18.0}{2 \\omega_{d} + 4 \\omega_{d2} + 6 \\omega_{d3}} - \\frac{18.0}{2 \\omega_{d} + 2 \\omega_{d2} + 6 \\omega_{d3}}\\right) + \\frac{C_{03,200}^{2} \\left(- 108.0 \\omega_{d} - 108.0 \\omega_{d2} - 216.0 \\omega_{d3}\\right)}{\\left(\\omega_{d} + 3 \\omega_{d2} + 6 \\omega_{d3}\\right) \\left(5 \\omega_{d} + 3 \\omega_{d2} + 6 \\omega_{d3}\\right)} - \\frac{24.0 C_{04,000}^{2}}{\\omega_{d} + \\omega_{d2} + 2 \\omega_{d3}} + \\frac{C_{04,001}^{2} \\left(- 768.0 \\omega_{d} - 768.0 \\omega_{d2} - 1536.0 \\omega_{d3}\\right)}{\\left(4 \\omega_{d} + 4 \\omega_{d2} + 7 \\omega_{d3}\\right) \\left(4 \\omega_{d} + 4 \\omega_{d2} + 9 \\omega_{d3}\\right)} + \\frac{C_{04,010}^{2} \\left(- 768.0 \\omega_{d} - 768.0 \\omega_{d2} - 1536.0 \\omega_{d3}\\right)}{\\left(4 \\omega_{d} + 3 \\omega_{d2} + 8 \\omega_{d3}\\right) \\left(4 \\omega_{d} + 5 \\omega_{d2} + 8 \\omega_{d3}\\right)} + \\frac{C_{04,100}^{2} \\left(- 768.0 \\omega_{d} - 768.0 \\omega_{d2} - 1536.0 \\omega_{d3}\\right)}{\\left(3 \\omega_{d} + 4 \\omega_{d2} + 8 \\omega_{d3}\\right) \\left(5 \\omega_{d} + 4 \\omega_{d2} + 8 \\omega_{d3}\\right)} - \\frac{120.0 C_{05,000}^{2}}{\\omega_{d} + \\omega_{d2} + 2 \\omega_{d3}} - \\frac{2.0 C_{11,000}^{2}}{\\omega_{d} + \\omega_{d2} + 2 \\omega_{d3}} + \\frac{C_{11,001}^{2} \\left(- 4.0 \\omega_{d} - 4.0 \\omega_{d2} - 8.0 \\omega_{d3}\\right)}{\\left(\\omega_{d} + \\omega_{d2} + \\omega_{d3}\\right) \\left(\\omega_{d} + \\omega_{d2} + 3 \\omega_{d3}\\right)} + \\frac{C_{11,002}^{2} \\left(- 4.0 \\omega_{d} - 4.0 \\omega_{d2} - 8.0 \\omega_{d3}\\right)}{\\left(\\omega_{d} + \\omega_{d2}\\right) \\left(\\omega_{d} + \\omega_{d2} + 4 \\omega_{d3}\\right)} + \\frac{C_{11,010}^{2} \\left(- 4.0 \\omega_{d} - 4.0 \\omega_{d2} - 8.0 \\omega_{d3}\\right)}{\\left(\\omega_{d} + 2 \\omega_{d3}\\right) \\left(\\omega_{d} + 2 \\omega_{d2} + 2 \\omega_{d3}\\right)} + C_{11,011}^{2} \\left(- \\frac{2.0}{\\omega_{d} + 2 \\omega_{d2} + 3 \\omega_{d3}} - \\frac{2.0}{\\omega_{d} + 2 \\omega_{d2} + \\omega_{d3}} - \\frac{2.0}{\\omega_{d} + 3 \\omega_{d3}} - \\frac{2.0}{\\omega_{d} + \\omega_{d3}}\\right) + \\frac{C_{11,020}^{2} \\left(- 4.0 \\omega_{d} - 4.0 \\omega_{d2} - 8.0 \\omega_{d3}\\right)}{\\left(\\omega_{d} - \\omega_{d2} + 2 \\omega_{d3}\\right) \\left(\\omega_{d} + 3 \\omega_{d2} + 2 \\omega_{d3}\\right)} + \\frac{C_{11,100}^{2} \\left(- 4.0 \\omega_{d} - 4.0 \\omega_{d2} - 8.0 \\omega_{d3}\\right)}{\\left(\\omega_{d2} + 2 \\omega_{d3}\\right) \\left(2 \\omega_{d} + \\omega_{d2} + 2 \\omega_{d3}\\right)} + C_{11,101}^{2} \\left(- \\frac{2.0}{2 \\omega_{d} + \\omega_{d2} + 3 \\omega_{d3}} - \\frac{2.0}{2 \\omega_{d} + \\omega_{d2} + \\omega_{d3}} - \\frac{2.0}{\\omega_{d2} + 3 \\omega_{d3}} - \\frac{2.0}{\\omega_{d2} + \\omega_{d3}}\\right) + C_{11,110}^{2} \\left(- \\frac{2.0}{2 \\omega_{d} + 2 \\omega_{d2} + 2 \\omega_{d3}} - \\frac{2.0}{2 \\omega_{d2} + 2 \\omega_{d3}} - \\frac{2.0}{2 \\omega_{d} + 2 \\omega_{d3}} - \\frac{1.0}{\\omega_{d3}}\\right) + \\frac{C_{11,200}^{2} \\left(- 4.0 \\omega_{d} - 4.0 \\omega_{d2} - 8.0 \\omega_{d3}\\right)}{\\left(- \\omega_{d} + \\omega_{d2} + 2 \\omega_{d3}\\right) \\left(3 \\omega_{d} + \\omega_{d2} + 2 \\omega_{d3}\\right)} - \\frac{3.0 C_{12,000}^{2}}{\\omega_{d} + \\omega_{d2} + 2 \\omega_{d3}} + \\frac{C_{12,001}^{2} \\left(- 24.0 \\omega_{d} - 24.0 \\omega_{d2} - 48.0 \\omega_{d3}\\right)}{\\left(2 \\omega_{d} + 2 \\omega_{d2} + 3 \\omega_{d3}\\right) \\left(2 \\omega_{d} + 2 \\omega_{d2} + 5 \\omega_{d3}\\right)} + \\frac{C_{12,010}^{2} \\left(- 24.0 \\omega_{d} - 24.0 \\omega_{d2} - 48.0 \\omega_{d3}\\right)}{\\left(2 \\omega_{d} + \\omega_{d2} + 4 \\omega_{d3}\\right) \\left(2 \\omega_{d} + 3 \\omega_{d2} + 4 \\omega_{d3}\\right)} + \\frac{C_{12,100}^{2} \\left(- 24.0 \\omega_{d} - 24.0 \\omega_{d2} - 48.0 \\omega_{d3}\\right)}{\\left(\\omega_{d} + 2 \\omega_{d2} + 4 \\omega_{d3}\\right) \\left(3 \\omega_{d} + 2 \\omega_{d2} + 4 \\omega_{d3}\\right)} - \\frac{8.0 C_{13,000}^{2}}{\\omega_{d} + \\omega_{d2} + 2 \\omega_{d3}}$"
      ],
      "text/plain": [
       "<IPython.core.display.Math object>"
      ]
     },
     "metadata": {},
     "output_type": "display_data"
    },
    {
     "name": "stdout",
     "output_type": "stream",
     "text": [
      "Two-photon squeezing amplitude, 1st order:\n"
     ]
    },
    {
     "data": {
      "text/latex": [
       "$\\displaystyle \\frac{C_{01,002} C_{03,110} \\left(- 2.25 \\omega_{d} - 2.25 \\omega_{d2} - 7.5 \\omega_{d3}\\right)}{\\left(\\omega_{d} + \\omega_{d2} + 3 \\omega_{d3}\\right) \\left(\\omega_{d} + \\omega_{d2} + 4 \\omega_{d3}\\right)} + C_{01,002} C_{11,110} \\left(- \\frac{0.5}{\\omega_{d} + \\omega_{d2}} + \\frac{0.25}{\\omega_{d3}}\\right) + \\frac{C_{01,011} C_{03,101} \\left(- 4.5 \\omega_{d} - 7.5 \\omega_{d2} - 12.0 \\omega_{d3}\\right)}{\\left(\\omega_{d} + 2 \\omega_{d2} + 3 \\omega_{d3}\\right) \\left(2 \\omega_{d} + 3 \\omega_{d2} + 5 \\omega_{d3}\\right)} + \\frac{0.5 C_{01,011} C_{11,101} \\left(\\omega_{d} - \\omega_{d2}\\right)}{\\left(\\omega_{d} + \\omega_{d3}\\right) \\left(\\omega_{d2} + \\omega_{d3}\\right)} + \\frac{C_{01,012} C_{03,100} \\left(- 4.5 \\omega_{d} - 7.5 \\omega_{d2} - 15.0 \\omega_{d3}\\right)}{\\left(\\omega_{d} + 2 \\omega_{d2} + 4 \\omega_{d3}\\right) \\left(2 \\omega_{d} + 3 \\omega_{d2} + 6 \\omega_{d3}\\right)} + C_{01,012} C_{11,100} \\left(\\frac{0.5}{\\omega_{d2} + 2 \\omega_{d3}} - \\frac{0.5}{\\omega_{d}}\\right) + \\frac{C_{01,101} C_{03,011} \\left(- 7.5 \\omega_{d} - 4.5 \\omega_{d2} - 12.0 \\omega_{d3}\\right)}{\\left(2 \\omega_{d} + \\omega_{d2} + 3 \\omega_{d3}\\right) \\left(3 \\omega_{d} + 2 \\omega_{d2} + 5 \\omega_{d3}\\right)} + \\frac{0.5 C_{01,101} C_{11,011} \\left(- \\omega_{d} + \\omega_{d2}\\right)}{\\left(\\omega_{d} + \\omega_{d3}\\right) \\left(\\omega_{d2} + \\omega_{d3}\\right)} + \\frac{C_{01,102} C_{03,010} \\left(- 7.5 \\omega_{d} - 4.5 \\omega_{d2} - 15.0 \\omega_{d3}\\right)}{\\left(2 \\omega_{d} + \\omega_{d2} + 4 \\omega_{d3}\\right) \\left(3 \\omega_{d} + 2 \\omega_{d2} + 6 \\omega_{d3}\\right)} + C_{01,102} C_{11,010} \\left(\\frac{0.5}{\\omega_{d} + 2 \\omega_{d3}} - \\frac{0.5}{\\omega_{d2}}\\right) + \\frac{C_{01,110} C_{03,002} \\left(- 3.75 \\omega_{d} - 3.75 \\omega_{d2} - 4.5 \\omega_{d3}\\right)}{\\left(\\omega_{d} + \\omega_{d2} + \\omega_{d3}\\right) \\left(3 \\omega_{d} + 3 \\omega_{d2} + 4 \\omega_{d3}\\right)} + C_{01,110} C_{11,002} \\left(\\frac{0.5}{\\omega_{d} + \\omega_{d2}} - \\frac{0.25}{\\omega_{d3}}\\right) + \\frac{C_{01,111} C_{03,001} \\left(- 7.5 \\omega_{d} - 7.5 \\omega_{d2} - 12.0 \\omega_{d3}\\right)}{\\left(2 \\omega_{d} + 2 \\omega_{d2} + 3 \\omega_{d3}\\right) \\left(3 \\omega_{d} + 3 \\omega_{d2} + 5 \\omega_{d3}\\right)} + \\frac{0.5 C_{01,111} C_{11,001} \\left(- \\omega_{d} - \\omega_{d2}\\right)}{\\omega_{d3} \\left(\\omega_{d} + \\omega_{d2} + \\omega_{d3}\\right)} + \\frac{C_{02,001} C_{10,111} \\left(- 3.0 \\omega_{d} - 3.0 \\omega_{d2} - 4.0 \\omega_{d3}\\right)}{\\left(\\omega_{d} + \\omega_{d2} + \\omega_{d3}\\right) \\left(2 \\omega_{d} + 2 \\omega_{d2} + 3 \\omega_{d3}\\right)} + \\frac{C_{02,002} C_{10,110} \\left(- 1.5 \\omega_{d} - 1.5 \\omega_{d2} - 1.0 \\omega_{d3}\\right)}{\\left(\\omega_{d} + \\omega_{d2}\\right) \\left(\\omega_{d} + \\omega_{d2} + \\omega_{d3}\\right)} + \\frac{3.0 C_{02,003} C_{10,111} \\left(- \\omega_{d} - \\omega_{d2}\\right)}{\\left(\\omega_{d} + \\omega_{d2} - \\omega_{d3}\\right) \\left(2 \\omega_{d} + 2 \\omega_{d2} + \\omega_{d3}\\right)} + \\frac{C_{02,010} C_{10,102} \\left(- 3.0 \\omega_{d} - 1.0 \\omega_{d2} - 6.0 \\omega_{d3}\\right)}{\\left(\\omega_{d} + 2 \\omega_{d3}\\right) \\left(2 \\omega_{d} + \\omega_{d2} + 4 \\omega_{d3}\\right)} + \\frac{C_{02,011} C_{10,101} \\left(- 3.0 \\omega_{d} - 1.0 \\omega_{d2} - 4.0 \\omega_{d3}\\right)}{\\left(\\omega_{d} + \\omega_{d3}\\right) \\left(2 \\omega_{d} + \\omega_{d2} + 3 \\omega_{d3}\\right)} + \\frac{C_{02,012} C_{04,100} \\left(- 30.0 \\omega_{d} - 42.0 \\omega_{d2} - 84.0 \\omega_{d3}\\right)}{\\left(2 \\omega_{d} + 3 \\omega_{d2} + 6 \\omega_{d3}\\right) \\left(3 \\omega_{d} + 4 \\omega_{d2} + 8 \\omega_{d3}\\right)} + \\frac{C_{02,012} C_{10,100} \\left(- 3.0 \\omega_{d} - 1.0 \\omega_{d2} - 2.0 \\omega_{d3}\\right)}{\\omega_{d} \\left(2 \\omega_{d} + \\omega_{d2} + 2 \\omega_{d3}\\right)} + \\frac{C_{02,012} C_{10,120} \\left(- 3.0 \\omega_{d} - 5.0 \\omega_{d2} - 2.0 \\omega_{d3}\\right)}{\\left(\\omega_{d} + 2 \\omega_{d2}\\right) \\left(2 \\omega_{d} + 3 \\omega_{d2} + 2 \\omega_{d3}\\right)} + \\frac{C_{02,012} C_{20,100} \\left(- 3.0 \\omega_{d} - 1.0 \\omega_{d2} - 2.0 \\omega_{d3}\\right)}{\\omega_{d} \\left(2 \\omega_{d} + \\omega_{d2} + 2 \\omega_{d3}\\right)} + \\frac{C_{02,021} C_{10,111} \\left(- 3.0 \\omega_{d} + 1.0 \\omega_{d2} - 4.0 \\omega_{d3}\\right)}{\\left(2 \\omega_{d} + 3 \\omega_{d3}\\right) \\left(\\omega_{d} - \\omega_{d2} + \\omega_{d3}\\right)} + \\frac{C_{02,100} C_{10,012} \\left(- 1.0 \\omega_{d} - 3.0 \\omega_{d2} - 6.0 \\omega_{d3}\\right)}{\\left(\\omega_{d2} + 2 \\omega_{d3}\\right) \\left(\\omega_{d} + 2 \\omega_{d2} + 4 \\omega_{d3}\\right)} + \\frac{C_{02,101} C_{10,011} \\left(- 1.0 \\omega_{d} - 3.0 \\omega_{d2} - 4.0 \\omega_{d3}\\right)}{\\left(\\omega_{d2} + \\omega_{d3}\\right) \\left(\\omega_{d} + 2 \\omega_{d2} + 3 \\omega_{d3}\\right)} + \\frac{C_{02,102} C_{04,010} \\left(- 42.0 \\omega_{d} - 30.0 \\omega_{d2} - 84.0 \\omega_{d3}\\right)}{\\left(3 \\omega_{d} + 2 \\omega_{d2} + 6 \\omega_{d3}\\right) \\left(4 \\omega_{d} + 3 \\omega_{d2} + 8 \\omega_{d3}\\right)} + \\frac{C_{02,102} C_{10,010} \\left(- 1.0 \\omega_{d} - 3.0 \\omega_{d2} - 2.0 \\omega_{d3}\\right)}{\\omega_{d2} \\left(\\omega_{d} + 2 \\omega_{d2} + 2 \\omega_{d3}\\right)} + \\frac{C_{02,102} C_{10,210} \\left(- 5.0 \\omega_{d} - 3.0 \\omega_{d2} - 2.0 \\omega_{d3}\\right)}{\\left(2 \\omega_{d} + \\omega_{d2}\\right) \\left(3 \\omega_{d} + 2 \\omega_{d2} + 2 \\omega_{d3}\\right)} + \\frac{C_{02,102} C_{20,010} \\left(- 1.0 \\omega_{d} - 3.0 \\omega_{d2} - 2.0 \\omega_{d3}\\right)}{\\omega_{d2} \\left(\\omega_{d} + 2 \\omega_{d2} + 2 \\omega_{d3}\\right)} + \\frac{C_{02,110} C_{10,002} \\left(- 0.5 \\omega_{d} - 0.5 \\omega_{d2} - 3.0 \\omega_{d3}\\right)}{\\omega_{d3} \\left(\\omega_{d} + \\omega_{d2} + 4 \\omega_{d3}\\right)} + \\frac{C_{02,111} C_{04,001} \\left(- 42.0 \\omega_{d} - 42.0 \\omega_{d2} - 72.0 \\omega_{d3}\\right)}{\\left(3 \\omega_{d} + 3 \\omega_{d2} + 5 \\omega_{d3}\\right) \\left(4 \\omega_{d} + 4 \\omega_{d2} + 7 \\omega_{d3}\\right)} + \\frac{C_{02,111} C_{10,001} \\left(- 1.0 \\omega_{d} - 1.0 \\omega_{d2} - 4.0 \\omega_{d3}\\right)}{\\omega_{d3} \\left(\\omega_{d} + \\omega_{d2} + 3 \\omega_{d3}\\right)} + \\frac{C_{02,111} C_{10,003} \\left(- 0.333333333333333 \\omega_{d} - 0.333333333333333 \\omega_{d2} - 2.66666666666667 \\omega_{d3}\\right)}{\\omega_{d3} \\left(\\omega_{d} + \\omega_{d2} + 5 \\omega_{d3}\\right)} + \\frac{C_{02,111} C_{10,021} \\left(- 1.0 \\omega_{d} - 5.0 \\omega_{d2} - 4.0 \\omega_{d3}\\right)}{\\left(2 \\omega_{d2} + \\omega_{d3}\\right) \\left(\\omega_{d} + 3 \\omega_{d2} + 3 \\omega_{d3}\\right)} + \\frac{C_{02,111} C_{10,201} \\left(- 5.0 \\omega_{d} - 1.0 \\omega_{d2} - 4.0 \\omega_{d3}\\right)}{\\left(2 \\omega_{d} + \\omega_{d3}\\right) \\left(3 \\omega_{d} + \\omega_{d2} + 3 \\omega_{d3}\\right)} + \\frac{C_{02,111} C_{20,001} \\left(- 1.0 \\omega_{d} - 1.0 \\omega_{d2} - 4.0 \\omega_{d3}\\right)}{\\omega_{d3} \\left(\\omega_{d} + \\omega_{d2} + 3 \\omega_{d3}\\right)} + \\frac{C_{02,120} C_{10,012} \\left(1.0 \\omega_{d} - 1.0 \\omega_{d2} + 6.0 \\omega_{d3}\\right)}{\\left(\\omega_{d} + 4 \\omega_{d3}\\right) \\left(\\omega_{d2} - 2 \\omega_{d3}\\right)} + \\frac{C_{02,201} C_{10,111} \\left(1.0 \\omega_{d} - 3.0 \\omega_{d2} - 4.0 \\omega_{d3}\\right)}{\\left(2 \\omega_{d2} + 3 \\omega_{d3}\\right) \\left(- \\omega_{d} + \\omega_{d2} + \\omega_{d3}\\right)} + \\frac{C_{02,210} C_{10,102} \\left(- 1.0 \\omega_{d} + 1.0 \\omega_{d2} + 6.0 \\omega_{d3}\\right)}{\\left(\\omega_{d} - 2 \\omega_{d3}\\right) \\left(\\omega_{d2} + 4 \\omega_{d3}\\right)} + \\frac{C_{03,002} C_{11,110} \\left(- 7.5 \\omega_{d} - 7.5 \\omega_{d2} - 9.0 \\omega_{d3}\\right)}{\\left(\\omega_{d} + \\omega_{d2} + \\omega_{d3}\\right) \\left(3 \\omega_{d} + 3 \\omega_{d2} + 4 \\omega_{d3}\\right)} + \\frac{C_{03,011} C_{11,101} \\left(- 15.0 \\omega_{d} - 9.0 \\omega_{d2} - 24.0 \\omega_{d3}\\right)}{\\left(2 \\omega_{d} + \\omega_{d2} + 3 \\omega_{d3}\\right) \\left(3 \\omega_{d} + 2 \\omega_{d2} + 5 \\omega_{d3}\\right)} + \\frac{C_{03,101} C_{11,011} \\left(- 9.0 \\omega_{d} - 15.0 \\omega_{d2} - 24.0 \\omega_{d3}\\right)}{\\left(\\omega_{d} + 2 \\omega_{d2} + 3 \\omega_{d3}\\right) \\left(2 \\omega_{d} + 3 \\omega_{d2} + 5 \\omega_{d3}\\right)} + \\frac{C_{03,110} C_{11,002} \\left(- 4.5 \\omega_{d} - 4.5 \\omega_{d2} - 15.0 \\omega_{d3}\\right)}{\\left(\\omega_{d} + \\omega_{d2} + 3 \\omega_{d3}\\right) \\left(\\omega_{d} + \\omega_{d2} + 4 \\omega_{d3}\\right)}$"
      ],
      "text/plain": [
       "<IPython.core.display.Math object>"
      ]
     },
     "metadata": {},
     "output_type": "display_data"
    }
   ],
   "source": [
    "# Monimial to calculate effective parametric amplitudes for in format (a^+)^k1a^k2 --> ((k1,), (k2,))\n",
    "FINAL_MONOMS = {\n",
    "    \"DETUNING\":          ((1,),(1,)),   # (a^+)a\n",
    "    \"KERR\":              ((2,),(2,)),   # (a^+)^2a^2\n",
    "    \"2PH_SQUEEZING\":     ((2,),(0,))    # (a^+)^2\n",
    "}\n",
    "#Performs Schrieffer-Wolff procedure for the defined model and saves the result to the file.\n",
    "#In current version, it needs to be recalculated for the same model if parameters of SW procedure or Hamiltonian have changed.\n",
    "model = hamiltonian.build_model(FINAL_MONOMS.values(), recalculate=True)\n",
    "omegad = sp.symbols('omega_d', latex_name='\\\\omega_d')\n",
    "omegad2 = sp.symbols('omega_d2', latex_name='\\\\omega_d2')\n",
    "omegad3 = sp.symbols('omega_d3', latex_name='\\\\omega_d3')\n",
    "omegads = [omegad,omegad2,omegad3]\n",
    "omega0 = omegad+omegad2+2*omegad3\n",
    "\n",
    "\n",
    "#Show 1st order Schrieffer-Wolff corrections\n",
    "kerr,_ = effective_hamiltonian_coeff_to_latex(model[FINAL_MONOMS[\"KERR\"]][1], omega0, omegads)\n",
    "delta,_ = effective_hamiltonian_coeff_to_latex(model[FINAL_MONOMS[\"DETUNING\"]][1], omega0, omegads)\n",
    "eps2,_ = effective_hamiltonian_coeff_to_latex(model[FINAL_MONOMS[\"2PH_SQUEEZING\"]][1], omega0, omegads)\n",
    "print(\"Self-Kerr amplitude, 1st order:\")\n",
    "display(Math(kerr))\n",
    "print(\"Detuning amplitude, 1st order:\")\n",
    "display(Math(delta))\n",
    "print(\"Two-photon squeezing amplitude, 1st order:\")\n",
    "display(Math(eps2))\n",
    "\n"
   ]
  },
  {
   "cell_type": "markdown",
   "id": "ee34cd2f",
   "metadata": {},
   "source": [
    "Currently effective_hamiltonian_coeff(idx_arr, model:Circuit, Pi, phi_zpf, omega_0, omega_d) method only implemented for a single drive we used in paper, the generalization should take into account \n",
    "$C_{nl,\\{p\\}}=C^{(a)}_{nl,\\{p\\}}+C^{(b)}_{nl,\\{p\\}}$,\n",
    "$C^{(j)}_{nl,\\{p\\}}=\\sum\\limits^{\\mathrm{S}\\geq3}_{\\{k\\},\\,m}\n",
    "\\frac{c_{2n{+}l{+}\\sum_i{(2k_i{+}p_i)}{+}2m}^{(j)}E_J{{\\varphi}_\\mathrm{zpf}^{2n{+}l}}}{m!n!(n{+}l)!\\prod_i(k_i!(k_i{+}p_i)!)}\n",
    "\\left(\\frac{{\\varphi}_\\mathrm{zpf}^2}2\\right)^m{}\\left(\\frac{{{\\Pi_j}}}2\\right)^{2k_0{+}p_0}\\prod\\limits_{i=1}^{K}\\left(\\frac{{{\\tilde{\\Pi}_i}}}2\\right)^{2k_i{+}p_i},\\quad j=a,b.$ or its closed-form expression (see Appendix A3).\n",
    "\n"
   ]
  },
  {
   "cell_type": "code",
   "execution_count": null,
   "id": "0d082202",
   "metadata": {},
   "outputs": [],
   "source": []
  }
 ],
 "metadata": {
  "kernelspec": {
   "display_name": "Python 3 (ipykernel)",
   "language": "python",
   "name": "python3"
  },
  "language_info": {
   "codemirror_mode": {
    "name": "ipython",
    "version": 3
   },
   "file_extension": ".py",
   "mimetype": "text/x-python",
   "name": "python",
   "nbconvert_exporter": "python",
   "pygments_lexer": "ipython3",
   "version": "3.13.1"
  }
 },
 "nbformat": 4,
 "nbformat_minor": 5
}
